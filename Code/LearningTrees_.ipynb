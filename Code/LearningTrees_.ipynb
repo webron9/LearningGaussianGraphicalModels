{
  "cells": [
    {
      "cell_type": "code",
      "execution_count": null,
      "id": "dcc68395",
      "metadata": {
        "id": "dcc68395"
      },
      "outputs": [],
      "source": [
        "import numpy as np\n",
        "import string\n",
        "import random\n",
        "import time\n",
        "import matplotlib.pyplot as plt"
      ]
    },
    {
      "cell_type": "code",
      "execution_count": null,
      "id": "4f33388e",
      "metadata": {
        "scrolled": true,
        "id": "4f33388e",
        "outputId": "e6683a10-350e-42cf-cc63-a42c678dd103"
      },
      "outputs": [
        {
          "name": "stdout",
          "output_type": "stream",
          "text": [
            "Random Tree:\n",
            "{0: [1, 2], 1: [3], 2: [4], 3: [5, 6], 4: [7], 5: [8], 6: [9], 7: [10, 11], 8: [12, 13], 9: [14, 15], 10: [16, 17], 11: [18], 12: [19], 13: [20, 21], 14: [22, 23], 15: [24, 25], 16: [26], 17: [27, 28], 18: [29, 30], 19: [31, 32], 20: [33], 21: [34, 35], 22: [36, 37], 23: [38, 39], 24: [40], 25: [41, 42], 26: [43], 27: [44], 28: [45, 46], 29: [47, 48], 30: [49], 31: [50, 51], 32: [52, 53], 33: [54, 55], 34: [56], 35: [57, 58], 36: [59, 60], 37: [61, 62], 38: [63], 39: [64, 65], 40: [66], 41: [67, 68], 42: [69], 43: [70], 44: [71, 72], 45: [73], 46: [74], 47: [75, 76], 48: [77, 78], 49: [79, 80], 50: [81, 82], 51: [83, 84], 52: [85], 53: [86], 54: [87], 55: [88], 56: [89], 57: [90], 58: [91], 59: [92, 93], 60: [94, 95], 61: [96], 62: [97, 98], 63: [99], 64: [], 65: [], 66: [], 67: [], 68: [], 69: [], 70: [], 71: [], 72: [], 73: [], 74: [], 75: [], 76: [], 77: [], 78: [], 79: [], 80: [], 81: [], 82: [], 83: [], 84: [], 85: [], 86: [], 87: [], 88: [], 89: [], 90: [], 91: [], 92: [], 93: [], 94: [], 95: [], 96: [], 97: [], 98: [], 99: []}\n",
            "Variances:\n",
            "{0: 1, 1: 1, 2: 1, 3: 1, 4: 1, 5: 1, 6: 1, 7: 1, 8: 1, 9: 1, 10: 1, 11: 1, 12: 1, 13: 1, 14: 1, 15: 1, 16: 1, 17: 1, 18: 1, 19: 1, 20: 1, 21: 1, 22: 1, 23: 1, 24: 1, 25: 1, 26: 1, 27: 1, 28: 1, 29: 1, 30: 1, 31: 1, 32: 1, 33: 1, 34: 1, 35: 1, 36: 1, 37: 1, 38: 1, 39: 1, 40: 1, 41: 1, 42: 1, 43: 1, 44: 1, 45: 1, 46: 1, 47: 1, 48: 1, 49: 1, 50: 1, 51: 1, 52: 1, 53: 1, 54: 1, 55: 1, 56: 1, 57: 1, 58: 1, 59: 1, 60: 1, 61: 1, 62: 1, 63: 1, 64: 1, 65: 1, 66: 1, 67: 1, 68: 1, 69: 1, 70: 1, 71: 1, 72: 1, 73: 1, 74: 1, 75: 1, 76: 1, 77: 1, 78: 1, 79: 1, 80: 1, 81: 1, 82: 1, 83: 1, 84: 1, 85: 1, 86: 1, 87: 1, 88: 1, 89: 1, 90: 1, 91: 1, 92: 1, 93: 1, 94: 1, 95: 1, 96: 1, 97: 1, 98: 1, 99: 1}\n"
          ]
        }
      ],
      "source": [
        "def generate_random_tree(num_nodes):\n",
        "    tree = {0: []}  # root node\n",
        "\n",
        "    nodes_queue = [0]  # Queue to keep track of nodes to explore\n",
        "    available_nodes = set(range(1, num_nodes))  # Nodes from 1 to num_nodes\n",
        "    while nodes_queue and available_nodes:\n",
        "        parent = nodes_queue.pop(0)\n",
        "\n",
        "        num_children = random.randint(1, 2)  # Generate a random number of children (0 or 1 or 2)\n",
        "        children = []\n",
        "\n",
        "        for _ in range(num_children):\n",
        "            if available_nodes:\n",
        "                child = available_nodes.pop()\n",
        "                children.append(child)\n",
        "                tree[child] = []\n",
        "                nodes_queue.append(child)\n",
        "\n",
        "        tree[parent] = children\n",
        "\n",
        "    return tree\n",
        "\n",
        "# Example usage:\n",
        "num_nodes = 100  # Change the number of nodes as per requirement\n",
        "tree = generate_random_tree(num_nodes)\n",
        "variances = {}\n",
        "for i in range(num_nodes):\n",
        "    variances[i] = 1\n",
        "print(\"Random Tree:\")\n",
        "print(tree)\n",
        "print(\"Variances:\")\n",
        "print(variances)"
      ]
    },
    {
      "cell_type": "code",
      "execution_count": null,
      "id": "afe33125",
      "metadata": {
        "id": "afe33125",
        "outputId": "877397b7-21a4-407c-dee3-4e6855ecc041"
      },
      "outputs": [
        {
          "data": {
            "text/plain": [
              "[(0, 1),\n",
              " (0, 2),\n",
              " (1, 3),\n",
              " (2, 4),\n",
              " (3, 5),\n",
              " (3, 6),\n",
              " (4, 7),\n",
              " (5, 8),\n",
              " (6, 9),\n",
              " (7, 10),\n",
              " (7, 11),\n",
              " (8, 12),\n",
              " (8, 13),\n",
              " (9, 14),\n",
              " (9, 15),\n",
              " (10, 16),\n",
              " (10, 17),\n",
              " (11, 18),\n",
              " (12, 19),\n",
              " (13, 20),\n",
              " (13, 21),\n",
              " (14, 22),\n",
              " (14, 23),\n",
              " (15, 24),\n",
              " (15, 25),\n",
              " (16, 26),\n",
              " (17, 27),\n",
              " (17, 28),\n",
              " (18, 29),\n",
              " (18, 30),\n",
              " (19, 31),\n",
              " (19, 32),\n",
              " (20, 33),\n",
              " (21, 34),\n",
              " (21, 35),\n",
              " (22, 36),\n",
              " (22, 37),\n",
              " (23, 38),\n",
              " (23, 39),\n",
              " (24, 40),\n",
              " (25, 41),\n",
              " (25, 42),\n",
              " (26, 43),\n",
              " (27, 44),\n",
              " (28, 45),\n",
              " (28, 46),\n",
              " (29, 47),\n",
              " (29, 48),\n",
              " (30, 49),\n",
              " (31, 50),\n",
              " (31, 51),\n",
              " (32, 52),\n",
              " (32, 53),\n",
              " (33, 54),\n",
              " (33, 55),\n",
              " (34, 56),\n",
              " (35, 57),\n",
              " (35, 58),\n",
              " (36, 59),\n",
              " (36, 60),\n",
              " (37, 61),\n",
              " (37, 62),\n",
              " (38, 63),\n",
              " (39, 64),\n",
              " (39, 65),\n",
              " (40, 66),\n",
              " (41, 67),\n",
              " (41, 68),\n",
              " (42, 69),\n",
              " (43, 70),\n",
              " (44, 71),\n",
              " (44, 72),\n",
              " (45, 73),\n",
              " (46, 74),\n",
              " (47, 75),\n",
              " (47, 76),\n",
              " (48, 77),\n",
              " (48, 78),\n",
              " (49, 79),\n",
              " (49, 80),\n",
              " (50, 81),\n",
              " (50, 82),\n",
              " (51, 83),\n",
              " (51, 84),\n",
              " (52, 85),\n",
              " (53, 86),\n",
              " (54, 87),\n",
              " (55, 88),\n",
              " (56, 89),\n",
              " (57, 90),\n",
              " (58, 91),\n",
              " (59, 92),\n",
              " (59, 93),\n",
              " (60, 94),\n",
              " (60, 95),\n",
              " (61, 96),\n",
              " (62, 97),\n",
              " (62, 98),\n",
              " (63, 99)]"
            ]
          },
          "execution_count": 3,
          "metadata": {},
          "output_type": "execute_result"
        }
      ],
      "source": [
        "true_tree = []\n",
        "for key in tree:\n",
        "    for item in tree[key]:\n",
        "        true_tree.append((key,item))\n",
        "true_tree"
      ]
    },
    {
      "cell_type": "code",
      "execution_count": null,
      "id": "a1551fab",
      "metadata": {
        "id": "a1551fab",
        "outputId": "e504986f-02fb-435f-aebd-cbe2a5da8943"
      },
      "outputs": [
        {
          "name": "stdout",
          "output_type": "stream",
          "text": [
            "{(25, 41), (33, 54), (14, 22), (7, 10), (49, 80), (3, 6), (2, 4), (22, 37), (60, 94), (19, 32), (15, 25), (18, 30), (47, 75), (32, 53), (20, 33), (23, 38), (31, 51), (51, 84), (13, 21), (28, 46), (16, 26), (36, 59), (0, 2), (56, 89), (21, 34), (9, 14), (29, 47), (41, 67), (1, 3), (44, 72), (52, 85), (45, 73), (50, 81), (59, 93), (10, 17), (37, 62), (25, 42), (3, 5), (54, 87), (63, 99), (26, 43), (14, 23), (55, 88), (8, 13), (38, 63), (11, 18), (19, 31), (39, 64), (27, 44), (7, 11), (30, 49), (12, 19), (32, 52), (35, 57), (43, 70), (17, 27), (28, 45), (48, 78), (57, 90), (53, 86), (62, 98), (58, 91), (44, 71), (61, 96), (46, 74), (49, 79), (33, 55), (21, 35), (41, 68), (59, 92), (22, 36), (10, 16), (34, 56), (37, 61), (15, 24), (18, 29), (42, 69), (8, 12), (50, 82), (31, 50), (51, 83), (60, 95), (13, 20), (47, 76), (0, 1), (23, 39), (39, 65), (48, 77), (4, 7), (24, 40), (36, 60), (5, 8), (35, 58), (62, 97), (9, 15), (29, 48), (17, 28), (40, 66), (6, 9)}\n"
          ]
        }
      ],
      "source": [
        "true_tree_set = set(true_tree)\n",
        "print(true_tree_set)"
      ]
    },
    {
      "cell_type": "code",
      "execution_count": null,
      "id": "f58983e2",
      "metadata": {
        "id": "f58983e2"
      },
      "outputs": [],
      "source": [
        "# Generate i.i.d. samples\n",
        "def generate_samples(node, parent_sample=None, samples={}):\n",
        "    if parent_sample is not None:\n",
        "        sample = np.random.normal(0, variances[node]) + parent_sample\n",
        "    else:\n",
        "        sample = np.random.normal(0, variances[node])\n",
        "\n",
        "    samples[node] = sample\n",
        "\n",
        "    for child_node in tree[node]:\n",
        "        generate_samples(child_node, sample)\n",
        "    return samples"
      ]
    },
    {
      "cell_type": "code",
      "execution_count": null,
      "id": "498fc3cf",
      "metadata": {
        "id": "498fc3cf",
        "outputId": "d5def910-eb07-4426-975f-09e8ef7c10d5"
      },
      "outputs": [
        {
          "data": {
            "text/plain": [
              "[0,\n",
              " 1,\n",
              " 3,\n",
              " 5,\n",
              " 8,\n",
              " 12,\n",
              " 19,\n",
              " 31,\n",
              " 50,\n",
              " 81,\n",
              " 82,\n",
              " 51,\n",
              " 83,\n",
              " 84,\n",
              " 32,\n",
              " 52,\n",
              " 85,\n",
              " 53,\n",
              " 86,\n",
              " 13,\n",
              " 20,\n",
              " 33,\n",
              " 54,\n",
              " 87,\n",
              " 55,\n",
              " 88,\n",
              " 21,\n",
              " 34,\n",
              " 56,\n",
              " 89,\n",
              " 35,\n",
              " 57,\n",
              " 90,\n",
              " 58,\n",
              " 91,\n",
              " 6,\n",
              " 9,\n",
              " 14,\n",
              " 22,\n",
              " 36,\n",
              " 59,\n",
              " 92,\n",
              " 93,\n",
              " 60,\n",
              " 94,\n",
              " 95,\n",
              " 37,\n",
              " 61,\n",
              " 96,\n",
              " 62,\n",
              " 97,\n",
              " 98,\n",
              " 23,\n",
              " 38,\n",
              " 63,\n",
              " 99,\n",
              " 39,\n",
              " 64,\n",
              " 65,\n",
              " 15,\n",
              " 24,\n",
              " 40,\n",
              " 66,\n",
              " 25,\n",
              " 41,\n",
              " 67,\n",
              " 68,\n",
              " 42,\n",
              " 69,\n",
              " 2,\n",
              " 4,\n",
              " 7,\n",
              " 10,\n",
              " 16,\n",
              " 26,\n",
              " 43,\n",
              " 70,\n",
              " 17,\n",
              " 27,\n",
              " 44,\n",
              " 71,\n",
              " 72,\n",
              " 28,\n",
              " 45,\n",
              " 73,\n",
              " 46,\n",
              " 74,\n",
              " 11,\n",
              " 18,\n",
              " 29,\n",
              " 47,\n",
              " 75,\n",
              " 76,\n",
              " 48,\n",
              " 77,\n",
              " 78,\n",
              " 30,\n",
              " 49,\n",
              " 79,\n",
              " 80]"
            ]
          },
          "execution_count": 6,
          "metadata": {},
          "output_type": "execute_result"
        }
      ],
      "source": [
        "# Generate samples starting from the root node\n",
        "samples = generate_samples(0)\n",
        "Nodes = []\n",
        "for node, sample in samples.items():\n",
        "    Nodes.append(node)\n",
        "Nodes"
      ]
    },
    {
      "cell_type": "code",
      "execution_count": null,
      "id": "597f6408",
      "metadata": {
        "id": "597f6408",
        "outputId": "42f88517-4ced-44cc-84e4-912944f46314"
      },
      "outputs": [
        {
          "data": {
            "text/plain": [
              "array([[ 1.92767250e+00,  3.31401627e+00,  8.08075513e-01, ...,\n",
              "         6.93693470e+00,  7.36813147e+00,  7.47812287e+00],\n",
              "       [-3.09848461e-02,  1.28766519e+00, -3.39936169e-01, ...,\n",
              "        -2.15445033e+00, -3.67078627e-01, -1.25257745e+00],\n",
              "       [-1.85727454e+00, -2.67777804e-01,  2.84863747e-01, ...,\n",
              "         5.06810085e-03, -1.20699177e+00, -1.32266680e+00],\n",
              "       ...,\n",
              "       [-7.64611790e-01,  1.75101773e-01,  6.90699365e-01, ...,\n",
              "         9.50727723e-01,  4.41951776e-01,  8.78673978e-01],\n",
              "       [-1.85788050e+00, -3.50573492e+00, -3.10579966e+00, ...,\n",
              "        -2.21991403e+00, -7.80316644e-01, -2.74059242e+00],\n",
              "       [-9.16547895e-01, -3.21559129e+00, -3.44069753e+00, ...,\n",
              "        -3.27955103e+00, -3.22140513e+00, -1.91263124e+00]])"
            ]
          },
          "execution_count": 7,
          "metadata": {},
          "output_type": "execute_result"
        }
      ],
      "source": [
        "total_samples = []\n",
        "for _ in range(50):\n",
        "    samples = generate_samples(0)\n",
        "    X = []\n",
        "    for key,value in samples.items():\n",
        "        X.append(value)\n",
        "    total_samples.append(X)\n",
        "X = np.array(total_samples)\n",
        "X"
      ]
    },
    {
      "cell_type": "code",
      "execution_count": null,
      "id": "e5a72248",
      "metadata": {
        "id": "e5a72248",
        "outputId": "072d6164-1e60-42a9-a4c3-fdd67710d75e"
      },
      "outputs": [
        {
          "data": {
            "text/plain": [
              "(50, 100)"
            ]
          },
          "execution_count": 8,
          "metadata": {},
          "output_type": "execute_result"
        }
      ],
      "source": [
        "X.shape"
      ]
    },
    {
      "cell_type": "code",
      "execution_count": null,
      "id": "aad15e10",
      "metadata": {
        "id": "aad15e10"
      },
      "outputs": [],
      "source": [
        "emp_cov = np.dot(X.T, X) / (len(X)-1)   # emp_cov = np.cov(X,rowvar=False)\n",
        "#emp_cov"
      ]
    },
    {
      "cell_type": "code",
      "execution_count": null,
      "id": "c809dfb3",
      "metadata": {
        "id": "c809dfb3"
      },
      "outputs": [],
      "source": [
        "rho_matrix = []\n",
        "for i in range(len(emp_cov)):\n",
        "    tmp = []\n",
        "    for j in range(len(emp_cov)):\n",
        "        tmp.append(emp_cov[i][j]/(((emp_cov[i][i])*(emp_cov[j][j]))**(0.5)))\n",
        "    rho_matrix.append(tmp)\n",
        "#rho_matrix"
      ]
    },
    {
      "cell_type": "code",
      "execution_count": null,
      "id": "370d8ca4",
      "metadata": {
        "id": "370d8ca4",
        "outputId": "8e03bfaf-ea9c-432a-923f-eb2c7f858798"
      },
      "outputs": [
        {
          "data": {
            "text/plain": [
              "(100, 100)"
            ]
          },
          "execution_count": 11,
          "metadata": {},
          "output_type": "execute_result"
        }
      ],
      "source": [
        "rho_matrix = np.array(rho_matrix)\n",
        "rho_matrix.shape"
      ]
    },
    {
      "cell_type": "code",
      "execution_count": null,
      "id": "0be13e1a",
      "metadata": {
        "id": "0be13e1a",
        "outputId": "113bba82-45db-450d-98c5-bb0c1ee67183"
      },
      "outputs": [
        {
          "name": "stderr",
          "output_type": "stream",
          "text": [
            "/tmp/ipykernel_8287/2813358664.py:5: RuntimeWarning: divide by zero encountered in log\n",
            "  tmp.append(-0.5*np.log(1-(rho_matrix[i][j])**2))\n"
          ]
        }
      ],
      "source": [
        "mut_inf = []\n",
        "for i in range(len(rho_matrix)):\n",
        "    tmp = []\n",
        "    for j in range(len(rho_matrix)):\n",
        "        tmp.append(-0.5*np.log(1-(rho_matrix[i][j])**2))\n",
        "    mut_inf.append(tmp)\n",
        "#mut_inf"
      ]
    },
    {
      "cell_type": "code",
      "execution_count": null,
      "id": "11959b28",
      "metadata": {
        "id": "11959b28"
      },
      "outputs": [],
      "source": [
        "mut_inf = np.array(mut_inf)\n",
        "#mut_inf"
      ]
    },
    {
      "cell_type": "code",
      "execution_count": null,
      "id": "0e4597af",
      "metadata": {
        "id": "0e4597af"
      },
      "outputs": [],
      "source": [
        "def find_parent(parent, i):\n",
        "    if parent[i] != i:\n",
        "        parent[i] = find_parent(parent, parent[i]) # path compression\n",
        "    return parent[i]\n",
        "\n",
        "def union(parent, rank, x, y):\n",
        "    root_x = find_parent(parent, x)\n",
        "    root_y = find_parent(parent, y)\n",
        "\n",
        "    if rank[root_x] < rank[root_y]:\n",
        "        parent[root_x] = root_y\n",
        "    elif rank[root_x] > rank[root_y]:\n",
        "        parent[root_y] = root_x\n",
        "    else:\n",
        "        parent[root_y] = root_x\n",
        "        rank[root_x] += 1\n",
        "\n",
        "def kruskal_max_spanning_tree(mutual_info_matrix):\n",
        "    num_nodes = mutual_info_matrix.shape[0]\n",
        "    edges = []\n",
        "\n",
        "    # Create a list of all edges and their weights\n",
        "    for i in range(num_nodes):\n",
        "        for j in range(i + 1, num_nodes):\n",
        "            edges.append((i, j, mutual_info_matrix[i, j]))\n",
        "\n",
        "    # Sort edges based on their weights in descending order\n",
        "    edges.sort(key=lambda x: x[2], reverse=True)\n",
        "\n",
        "    parent = [i for i in range(num_nodes)]\n",
        "    rank = [0] * num_nodes\n",
        "    max_spanning_tree = []\n",
        "\n",
        "    for edge in edges:\n",
        "        src, dest, weight = edge\n",
        "        parent_src = find_parent(parent, src)\n",
        "        parent_dest = find_parent(parent, dest)\n",
        "\n",
        "        # Check if adding the edge creates a cycle\n",
        "        if parent_src != parent_dest:\n",
        "            max_spanning_tree.append((src, dest, weight))\n",
        "            union(parent, rank, parent_src, parent_dest)\n",
        "\n",
        "    return max_spanning_tree\n"
      ]
    },
    {
      "cell_type": "code",
      "execution_count": null,
      "id": "50190a60",
      "metadata": {
        "id": "50190a60",
        "outputId": "eed2eb1e-6cc7-4d53-cb02-04a8f0c49c88"
      },
      "outputs": [
        {
          "name": "stdout",
          "output_type": "stream",
          "text": [
            "Time : 0.004602193832397461\n"
          ]
        }
      ],
      "source": [
        "start = time.time()\n",
        "mwst = kruskal_max_spanning_tree(mut_inf)\n",
        "end = time.time()\n",
        "print(\"Time :\", end-start)\n",
        "#mwst\n",
        "# indexes do not follow sampling indexing"
      ]
    },
    {
      "cell_type": "code",
      "execution_count": null,
      "id": "9efbe382",
      "metadata": {
        "id": "9efbe382"
      },
      "outputs": [],
      "source": [
        "emp_tree = []\n",
        "for i in range(len(mwst)):\n",
        "    emp_tree.append((Nodes[mwst[i][0]],Nodes[mwst[i][1]]))\n",
        "#emp_tree"
      ]
    },
    {
      "cell_type": "code",
      "execution_count": null,
      "id": "519b85aa",
      "metadata": {
        "id": "519b85aa",
        "outputId": "65afb38d-eb55-4921-f363-5715c3787d73"
      },
      "outputs": [
        {
          "name": "stdout",
          "output_type": "stream",
          "text": [
            "99 1.0\n"
          ]
        }
      ],
      "source": [
        "count = 0\n",
        "for edge in emp_tree:\n",
        "    if edge in true_tree_set:\n",
        "        count += 1\n",
        "print(count, count/len(true_tree_set))"
      ]
    },
    {
      "cell_type": "code",
      "execution_count": null,
      "id": "ea844cb1",
      "metadata": {
        "id": "ea844cb1"
      },
      "outputs": [],
      "source": [
        "plot_x = [5,25,50,100,250,500,1000,5000,10000]\n",
        "plot_y = [20,25,50,50,50,50,50,60,60]"
      ]
    },
    {
      "cell_type": "code",
      "execution_count": null,
      "id": "b7c32d97",
      "metadata": {
        "id": "b7c32d97",
        "outputId": "c266b12e-d8c8-4555-dd9c-4dcd3c8ca016"
      },
      "outputs": [
        {
          "data": {
            "image/png": "[encoded data removed]",
            "text/plain": [
              "<Figure size 640x480 with 1 Axes>"
            ]
          },
          "metadata": {},
          "output_type": "display_data"
        }
      ],
      "source": [
        "plt.plot(plot_x,plot_y)\n",
        "plt.xlabel(\"nodes\")\n",
        "plt.ylabel(\"samples\")\n",
        "plt.show()"
      ]
    },
    {
      "cell_type": "code",
      "execution_count": null,
      "id": "c4a12b04",
      "metadata": {
        "id": "c4a12b04"
      },
      "outputs": [],
      "source": []
    }
  ],
  "metadata": {
    "kernelspec": {
      "display_name": "Python 3 (ipykernel)",
      "language": "python",
      "name": "python3"
    },
    "language_info": {
      "codemirror_mode": {
        "name": "ipython",
        "version": 3
      },
      "file_extension": ".py",
      "mimetype": "text/x-python",
      "name": "python",
      "nbconvert_exporter": "python",
      "pygments_lexer": "ipython3",
      "version": "3.10.9"
    },
    "colab": {
      "provenance": []
    }
  },
  "nbformat": 4,
  "nbformat_minor": 5
}