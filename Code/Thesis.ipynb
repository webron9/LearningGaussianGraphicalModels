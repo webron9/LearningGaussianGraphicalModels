{
  "nbformat": 4,
  "nbformat_minor": 0,
  "metadata": {
    "colab": {
      "provenance": []
    },
    "kernelspec": {
      "name": "python3",
      "display_name": "Python 3"
    },
    "language_info": {
      "name": "python"
    }
  },
  "cells": [
    {
      "cell_type": "code",
      "execution_count": null,
      "metadata": {
        "id": "TZBO_h9oPgJf"
      },
      "outputs": [],
      "source": [
        "from sklearn.covariance import GraphicalLasso\n",
        "import pandas as pd\n",
        "import numpy as np\n",
        "import matplotlib.pyplot as plt\n",
        "import seaborn as sns\n",
        "import networkx as nx"
      ]
    },
    {
      "cell_type": "code",
      "source": [],
      "metadata": {
        "id": "ggxuSUC3MpHv"
      },
      "execution_count": null,
      "outputs": []
    },
    {
      "cell_type": "markdown",
      "source": [
        "#GLASSO on attractive GGM"
      ],
      "metadata": {
        "id": "IJv0bXp7HhpX"
      }
    },
    {
      "cell_type": "code",
      "source": [
        "X = [[1.81818182, -0.90909091, -0.18181818, 0.0],\n",
        " [-0.90909091, 1.81818182, 0.0, 0.0],\n",
        " [-0.18181818, 0.0, 1.33333333, -1.09090909],\n",
        " [0.0, 0.0, -1.09090909, 1.33333333]]\n"
      ],
      "metadata": {
        "id": "GuUZpXIYHl63"
      },
      "execution_count": null,
      "outputs": []
    },
    {
      "cell_type": "code",
      "source": [
        "cov_matrix = np.array([[1.81818182, -0.90909091, -0.18181818, 0.0],\n",
        "                       [-0.90909091, 1.81818182, 0.0, 0.0],\n",
        "                       [-0.18181818, 0.0, 1.33333333, -1.09090909],\n",
        "                       [0.0, 0.0, -1.09090909, 1.33333333]])\n",
        "\n",
        "eigenvalues = np.linalg.eigvalsh(cov_matrix)\n",
        "condition_number = np.max(eigenvalues) / np.min(eigenvalues)\n",
        "\n",
        "print(\"Condition Number:\", condition_number)\n",
        "print(\"Min Eigen Value:\", min(eigenvalues))"
      ],
      "metadata": {
        "colab": {
          "base_uri": "https://localhost:8080/"
        },
        "id": "CrYZaV1zIVLJ",
        "outputId": "5dacb463-38b7-4c8e-fe9d-6bde5d87026d"
      },
      "execution_count": null,
      "outputs": [
        {
          "output_type": "stream",
          "name": "stdout",
          "text": [
            "Condition Number: 12.146190802622526\n",
            "Min Eigen Value: 0.2268954723906359\n"
          ]
        }
      ]
    },
    {
      "cell_type": "markdown",
      "source": [
        "# GLASSO on example matrix"
      ],
      "metadata": {
        "id": "-pnsniLqRAEx"
      }
    },
    {
      "cell_type": "code",
      "source": [
        "# Create an instance of GraphicalLasso\n",
        "graphical_lasso = GraphicalLasso()\n",
        "# Fit the model to the data\n",
        "graphical_lasso.fit(X)\n",
        "\n",
        "# Retrieve the learned precision matrix\n",
        "precision_matrix = graphical_lasso.precision_\n",
        "\n",
        "print(\"Learned Precision Matrix:\")\n",
        "print(precision_matrix)"
      ],
      "metadata": {
        "colab": {
          "base_uri": "https://localhost:8080/"
        },
        "id": "tA8lwaB9IAMF",
        "outputId": "f216c086-8f15-47d3-b99d-d3205aef8077"
      },
      "execution_count": null,
      "outputs": [
        {
          "output_type": "stream",
          "name": "stdout",
          "text": [
            "Learned Precision Matrix:\n",
            "[[ 4.88133499  4.0419014   4.95713425  4.52186546]\n",
            " [ 4.0419014   4.406918    3.19227839  2.86213852]\n",
            " [ 4.95713425  3.19227839 25.28903196 24.29074732]\n",
            " [ 4.52186546  2.86213852 24.29074732 24.70104269]]\n"
          ]
        }
      ]
    },
    {
      "cell_type": "code",
      "source": [
        "# Create a sample data matrix X with n samples and p features\n",
        "X = np.array([[1.0, 0.2, 0.3, 0.4],\n",
        "              [0.2, 1.0, 0.5, 0.6],\n",
        "              [0.3, 0.5, 1.0, 0.7],\n",
        "              [0.4, 0.6, 0.7, 1.0]])\n"
      ],
      "metadata": {
        "id": "4GFeuhydzL1N"
      },
      "execution_count": null,
      "outputs": []
    },
    {
      "cell_type": "code",
      "source": [
        "# Create an instance of GraphicalLasso\n",
        "graphical_lasso = GraphicalLasso()"
      ],
      "metadata": {
        "id": "URye-gAezTjF"
      },
      "execution_count": null,
      "outputs": []
    },
    {
      "cell_type": "code",
      "source": [
        "# Fit the model to the data\n",
        "graphical_lasso.fit(X)\n",
        "\n",
        "# Retrieve the learned precision matrix\n",
        "precision_matrix = graphical_lasso.precision_\n",
        "\n",
        "print(\"Learned Precision Matrix:\")\n",
        "print(precision_matrix)"
      ],
      "metadata": {
        "colab": {
          "base_uri": "https://localhost:8080/",
          "height": 237
        },
        "id": "Hn5ZjCodzZZb",
        "outputId": "08b18d57-479b-4e58-f141-cc582257f702"
      },
      "execution_count": null,
      "outputs": [
        {
          "output_type": "error",
          "ename": "NameError",
          "evalue": "ignored",
          "traceback": [
            "\u001b[0;31m---------------------------------------------------------------------------\u001b[0m",
            "\u001b[0;31mNameError\u001b[0m                                 Traceback (most recent call last)",
            "\u001b[0;32m<ipython-input-3-bc29606ae630>\u001b[0m in \u001b[0;36m<cell line: 2>\u001b[0;34m()\u001b[0m\n\u001b[1;32m      1\u001b[0m \u001b[0;31m# Fit the model to the data\u001b[0m\u001b[0;34m\u001b[0m\u001b[0;34m\u001b[0m\u001b[0m\n\u001b[0;32m----> 2\u001b[0;31m \u001b[0mgraphical_lasso\u001b[0m\u001b[0;34m.\u001b[0m\u001b[0mfit\u001b[0m\u001b[0;34m(\u001b[0m\u001b[0mX\u001b[0m\u001b[0;34m)\u001b[0m\u001b[0;34m\u001b[0m\u001b[0;34m\u001b[0m\u001b[0m\n\u001b[0m\u001b[1;32m      3\u001b[0m \u001b[0;34m\u001b[0m\u001b[0m\n\u001b[1;32m      4\u001b[0m \u001b[0;31m# Retrieve the learned precision matrix\u001b[0m\u001b[0;34m\u001b[0m\u001b[0;34m\u001b[0m\u001b[0m\n\u001b[1;32m      5\u001b[0m \u001b[0mprecision_matrix\u001b[0m \u001b[0;34m=\u001b[0m \u001b[0mgraphical_lasso\u001b[0m\u001b[0;34m.\u001b[0m\u001b[0mprecision_\u001b[0m\u001b[0;34m\u001b[0m\u001b[0;34m\u001b[0m\u001b[0m\n",
            "\u001b[0;31mNameError\u001b[0m: name 'graphical_lasso' is not defined"
          ]
        }
      ]
    },
    {
      "cell_type": "markdown",
      "source": [
        "# Glass Identification using GLASSO"
      ],
      "metadata": {
        "id": "oOp6O8lSI1hS"
      }
    },
    {
      "cell_type": "code",
      "source": [
        "# Load the Glass Identification dataset\n",
        "data = pd.read_csv('glass.data', header=None)\n",
        "\n",
        "# Extract the features (X) and labels (y)\n",
        "X = data.iloc[:, :-1].values\n",
        "y = data.iloc[:, -1].values"
      ],
      "metadata": {
        "id": "50V4VmLGzdIf"
      },
      "execution_count": null,
      "outputs": []
    },
    {
      "cell_type": "code",
      "source": [
        "data.head()"
      ],
      "metadata": {
        "colab": {
          "base_uri": "https://localhost:8080/",
          "height": 206
        },
        "id": "Nnedq5qD2bHX",
        "outputId": "9746a73c-358d-47ad-9c89-d306333988fb"
      },
      "execution_count": null,
      "outputs": [
        {
          "output_type": "execute_result",
          "data": {
            "text/plain": [
              "   0        1      2     3     4      5     6     7    8    9   10\n",
              "0   1  1.52101  13.64  4.49  1.10  71.78  0.06  8.75  0.0  0.0   1\n",
              "1   2  1.51761  13.89  3.60  1.36  72.73  0.48  7.83  0.0  0.0   1\n",
              "2   3  1.51618  13.53  3.55  1.54  72.99  0.39  7.78  0.0  0.0   1\n",
              "3   4  1.51766  13.21  3.69  1.29  72.61  0.57  8.22  0.0  0.0   1\n",
              "4   5  1.51742  13.27  3.62  1.24  73.08  0.55  8.07  0.0  0.0   1"
            ],
            "text/html": [
              "\n",
              "  <div id=\"df-7580cf34-4cfa-4fcf-a877-5b95c4c2e710\">\n",
              "    <div class=\"colab-df-container\">\n",
              "      <div>\n",
              "<style scoped>\n",
              "    .dataframe tbody tr th:only-of-type {\n",
              "        vertical-align: middle;\n",
              "    }\n",
              "\n",
              "    .dataframe tbody tr th {\n",
              "        vertical-align: top;\n",
              "    }\n",
              "\n",
              "    .dataframe thead th {\n",
              "        text-align: right;\n",
              "    }\n",
              "</style>\n",
              "<table border=\"1\" class=\"dataframe\">\n",
              "  <thead>\n",
              "    <tr style=\"text-align: right;\">\n",
              "      <th></th>\n",
              "      <th>0</th>\n",
              "      <th>1</th>\n",
              "      <th>2</th>\n",
              "      <th>3</th>\n",
              "      <th>4</th>\n",
              "      <th>5</th>\n",
              "      <th>6</th>\n",
              "      <th>7</th>\n",
              "      <th>8</th>\n",
              "      <th>9</th>\n",
              "      <th>10</th>\n",
              "    </tr>\n",
              "  </thead>\n",
              "  <tbody>\n",
              "    <tr>\n",
              "      <th>0</th>\n",
              "      <td>1</td>\n",
              "      <td>1.52101</td>\n",
              "      <td>13.64</td>\n",
              "      <td>4.49</td>\n",
              "      <td>1.10</td>\n",
              "      <td>71.78</td>\n",
              "      <td>0.06</td>\n",
              "      <td>8.75</td>\n",
              "      <td>0.0</td>\n",
              "      <td>0.0</td>\n",
              "      <td>1</td>\n",
              "    </tr>\n",
              "    <tr>\n",
              "      <th>1</th>\n",
              "      <td>2</td>\n",
              "      <td>1.51761</td>\n",
              "      <td>13.89</td>\n",
              "      <td>3.60</td>\n",
              "      <td>1.36</td>\n",
              "      <td>72.73</td>\n",
              "      <td>0.48</td>\n",
              "      <td>7.83</td>\n",
              "      <td>0.0</td>\n",
              "      <td>0.0</td>\n",
              "      <td>1</td>\n",
              "    </tr>\n",
              "    <tr>\n",
              "      <th>2</th>\n",
              "      <td>3</td>\n",
              "      <td>1.51618</td>\n",
              "      <td>13.53</td>\n",
              "      <td>3.55</td>\n",
              "      <td>1.54</td>\n",
              "      <td>72.99</td>\n",
              "      <td>0.39</td>\n",
              "      <td>7.78</td>\n",
              "      <td>0.0</td>\n",
              "      <td>0.0</td>\n",
              "      <td>1</td>\n",
              "    </tr>\n",
              "    <tr>\n",
              "      <th>3</th>\n",
              "      <td>4</td>\n",
              "      <td>1.51766</td>\n",
              "      <td>13.21</td>\n",
              "      <td>3.69</td>\n",
              "      <td>1.29</td>\n",
              "      <td>72.61</td>\n",
              "      <td>0.57</td>\n",
              "      <td>8.22</td>\n",
              "      <td>0.0</td>\n",
              "      <td>0.0</td>\n",
              "      <td>1</td>\n",
              "    </tr>\n",
              "    <tr>\n",
              "      <th>4</th>\n",
              "      <td>5</td>\n",
              "      <td>1.51742</td>\n",
              "      <td>13.27</td>\n",
              "      <td>3.62</td>\n",
              "      <td>1.24</td>\n",
              "      <td>73.08</td>\n",
              "      <td>0.55</td>\n",
              "      <td>8.07</td>\n",
              "      <td>0.0</td>\n",
              "      <td>0.0</td>\n",
              "      <td>1</td>\n",
              "    </tr>\n",
              "  </tbody>\n",
              "</table>\n",
              "</div>\n",
              "      <button class=\"colab-df-convert\" onclick=\"convertToInteractive('df-7580cf34-4cfa-4fcf-a877-5b95c4c2e710')\"\n",
              "              title=\"Convert this dataframe to an interactive table.\"\n",
              "              style=\"display:none;\">\n",
              "        \n",
              "  <svg xmlns=\"http://www.w3.org/2000/svg\" height=\"24px\"viewBox=\"0 0 24 24\"\n",
              "       width=\"24px\">\n",
              "    <path d=\"M0 0h24v24H0V0z\" fill=\"none\"/>\n",
              "    <path d=\"M18.56 5.44l.94 2.06.94-2.06 2.06-.94-2.06-.94-.94-2.06-.94 2.06-2.06.94zm-11 1L8.5 8.5l.94-2.06 2.06-.94-2.06-.94L8.5 2.5l-.94 2.06-2.06.94zm10 10l.94 2.06.94-2.06 2.06-.94-2.06-.94-.94-2.06-.94 2.06-2.06.94z\"/><path d=\"M17.41 7.96l-1.37-1.37c-.4-.4-.92-.59-1.43-.59-.52 0-1.04.2-1.43.59L10.3 9.45l-7.72 7.72c-.78.78-.78 2.05 0 2.83L4 21.41c.39.39.9.59 1.41.59.51 0 1.02-.2 1.41-.59l7.78-7.78 2.81-2.81c.8-.78.8-2.07 0-2.86zM5.41 20L4 18.59l7.72-7.72 1.47 1.35L5.41 20z\"/>\n",
              "  </svg>\n",
              "      </button>\n",
              "      \n",
              "  <style>\n",
              "    .colab-df-container {\n",
              "      display:flex;\n",
              "      flex-wrap:wrap;\n",
              "      gap: 12px;\n",
              "    }\n",
              "\n",
              "    .colab-df-convert {\n",
              "      background-color: #E8F0FE;\n",
              "      border: none;\n",
              "      border-radius: 50%;\n",
              "      cursor: pointer;\n",
              "      display: none;\n",
              "      fill: #1967D2;\n",
              "      height: 32px;\n",
              "      padding: 0 0 0 0;\n",
              "      width: 32px;\n",
              "    }\n",
              "\n",
              "    .colab-df-convert:hover {\n",
              "      background-color: #E2EBFA;\n",
              "      box-shadow: 0px 1px 2px rgba(60, 64, 67, 0.3), 0px 1px 3px 1px rgba(60, 64, 67, 0.15);\n",
              "      fill: #174EA6;\n",
              "    }\n",
              "\n",
              "    [theme=dark] .colab-df-convert {\n",
              "      background-color: #3B4455;\n",
              "      fill: #D2E3FC;\n",
              "    }\n",
              "\n",
              "    [theme=dark] .colab-df-convert:hover {\n",
              "      background-color: #434B5C;\n",
              "      box-shadow: 0px 1px 3px 1px rgba(0, 0, 0, 0.15);\n",
              "      filter: drop-shadow(0px 1px 2px rgba(0, 0, 0, 0.3));\n",
              "      fill: #FFFFFF;\n",
              "    }\n",
              "  </style>\n",
              "\n",
              "      <script>\n",
              "        const buttonEl =\n",
              "          document.querySelector('#df-7580cf34-4cfa-4fcf-a877-5b95c4c2e710 button.colab-df-convert');\n",
              "        buttonEl.style.display =\n",
              "          google.colab.kernel.accessAllowed ? 'block' : 'none';\n",
              "\n",
              "        async function convertToInteractive(key) {\n",
              "          const element = document.querySelector('#df-7580cf34-4cfa-4fcf-a877-5b95c4c2e710');\n",
              "          const dataTable =\n",
              "            await google.colab.kernel.invokeFunction('convertToInteractive',\n",
              "                                                     [key], {});\n",
              "          if (!dataTable) return;\n",
              "\n",
              "          const docLinkHtml = 'Like what you see? Visit the ' +\n",
              "            '<a target=\"_blank\" href=https://colab.research.google.com/notebooks/data_table.ipynb>data table notebook</a>'\n",
              "            + ' to learn more about interactive tables.';\n",
              "          element.innerHTML = '';\n",
              "          dataTable['output_type'] = 'display_data';\n",
              "          await google.colab.output.renderOutput(dataTable, element);\n",
              "          const docLink = document.createElement('div');\n",
              "          docLink.innerHTML = docLinkHtml;\n",
              "          element.appendChild(docLink);\n",
              "        }\n",
              "      </script>\n",
              "    </div>\n",
              "  </div>\n",
              "  "
            ]
          },
          "metadata": {},
          "execution_count": 17
        }
      ]
    },
    {
      "cell_type": "code",
      "source": [
        "y"
      ],
      "metadata": {
        "colab": {
          "base_uri": "https://localhost:8080/"
        },
        "id": "6IryigqJ2cJV",
        "outputId": "d29c2abf-5709-4f0c-85f0-83806efb95a8"
      },
      "execution_count": null,
      "outputs": [
        {
          "output_type": "execute_result",
          "data": {
            "text/plain": [
              "array([1, 1, 1, 1, 1, 1, 1, 1, 1, 1, 1, 1, 1, 1, 1, 1, 1, 1, 1, 1, 1, 1,\n",
              "       1, 1, 1, 1, 1, 1, 1, 1, 1, 1, 1, 1, 1, 1, 1, 1, 1, 1, 1, 1, 1, 1,\n",
              "       1, 1, 1, 1, 1, 1, 1, 1, 1, 1, 1, 1, 1, 1, 1, 1, 1, 1, 1, 1, 1, 1,\n",
              "       1, 1, 1, 1, 2, 2, 2, 2, 2, 2, 2, 2, 2, 2, 2, 2, 2, 2, 2, 2, 2, 2,\n",
              "       2, 2, 2, 2, 2, 2, 2, 2, 2, 2, 2, 2, 2, 2, 2, 2, 2, 2, 2, 2, 2, 2,\n",
              "       2, 2, 2, 2, 2, 2, 2, 2, 2, 2, 2, 2, 2, 2, 2, 2, 2, 2, 2, 2, 2, 2,\n",
              "       2, 2, 2, 2, 2, 2, 2, 2, 2, 2, 2, 2, 2, 2, 3, 3, 3, 3, 3, 3, 3, 3,\n",
              "       3, 3, 3, 3, 3, 3, 3, 3, 3, 5, 5, 5, 5, 5, 5, 5, 5, 5, 5, 5, 5, 5,\n",
              "       6, 6, 6, 6, 6, 6, 6, 6, 6, 7, 7, 7, 7, 7, 7, 7, 7, 7, 7, 7, 7, 7,\n",
              "       7, 7, 7, 7, 7, 7, 7, 7, 7, 7, 7, 7, 7, 7, 7, 7])"
            ]
          },
          "metadata": {},
          "execution_count": 18
        }
      ]
    },
    {
      "cell_type": "code",
      "source": [
        "graphical_lasso = GraphicalLasso()"
      ],
      "metadata": {
        "id": "dSBO3tBU8Drp"
      },
      "execution_count": null,
      "outputs": []
    },
    {
      "cell_type": "code",
      "source": [
        "graphical_lasso.fit(X)\n",
        "\n",
        "# Retrieved learned precision matrix\n",
        "precision_matrix_glass = graphical_lasso.precision_\n",
        "\n",
        "print(\"Learned Precision Matrix:\")\n",
        "print(precision_matrix_glass)"
      ],
      "metadata": {
        "colab": {
          "base_uri": "https://localhost:8080/"
        },
        "id": "z7Ve2CvQ2hkC",
        "outputId": "65856279-faeb-4735-e89f-4cae2fc22f7a"
      },
      "execution_count": null,
      "outputs": [
        {
          "output_type": "stream",
          "name": "stdout",
          "text": [
            "Learned Precision Matrix:\n",
            "[[ 5.35311048e-04  1.00376269e-01 -5.67912939e-03  1.27053153e-02\n",
            "  -1.22625953e-02  1.95694687e-03  2.69273829e-03  2.08605899e-03\n",
            "  -2.60211673e-03  6.68308215e-03]\n",
            " [ 1.00376269e-01  1.08977480e+05  0.00000000e+00  0.00000000e+00\n",
            "   0.00000000e+00  0.00000000e+00  0.00000000e+00 -0.00000000e+00\n",
            "  -0.00000000e+00 -0.00000000e+00]\n",
            " [-5.67912939e-03  0.00000000e+00  4.00397487e+00  2.13408208e+00\n",
            "   1.92349355e+00  2.18456830e+00  2.71296455e+00  2.40230847e+00\n",
            "   1.08107774e+00  1.17680447e+00]\n",
            " [ 1.27053153e-02  0.00000000e+00  2.13408208e+00  3.37039784e+00\n",
            "   2.85234536e+00  2.40521844e+00  2.06587452e+00  2.65910577e+00\n",
            "   2.49566805e+00 -0.00000000e+00]\n",
            " [-1.22625953e-02  0.00000000e+00  1.92349355e+00  2.85234536e+00\n",
            "   9.86369430e+00  1.84954366e+00  0.00000000e+00  2.66196780e+00\n",
            "  -0.00000000e+00  0.00000000e+00]\n",
            " [ 1.95694687e-03  0.00000000e+00  2.18456830e+00  2.40521844e+00\n",
            "   1.84954366e+00  3.82803364e+00  2.51014164e+00  2.40377029e+00\n",
            "   2.29209832e+00  0.00000000e+00]\n",
            " [ 2.69273829e-03  0.00000000e+00  2.71296455e+00  2.06587452e+00\n",
            "   0.00000000e+00  2.51014164e+00  5.28245944e+00  2.41558223e+00\n",
            "   2.20956357e+00  0.00000000e+00]\n",
            " [ 2.08605899e-03 -0.00000000e+00  2.40230847e+00  2.65910577e+00\n",
            "   2.66196780e+00  2.40377029e+00  2.41558223e+00  2.94244104e+00\n",
            "   2.11979330e+00 -2.32579252e-01]\n",
            " [-2.60211673e-03 -0.00000000e+00  1.08107774e+00  2.49566805e+00\n",
            "  -0.00000000e+00  2.29209832e+00  2.20956357e+00  2.11979330e+00\n",
            "   7.95235158e+00  0.00000000e+00]\n",
            " [ 6.68308215e-03 -0.00000000e+00  1.17680447e+00 -0.00000000e+00\n",
            "   0.00000000e+00  0.00000000e+00  0.00000000e+00 -2.32579252e-01\n",
            "   0.00000000e+00  1.07436278e+02]]\n"
          ]
        }
      ]
    },
    {
      "cell_type": "code",
      "source": [
        "graphical_lasso.score(X)"
      ],
      "metadata": {
        "colab": {
          "base_uri": "https://localhost:8080/"
        },
        "id": "aaHVhNfgA3in",
        "outputId": "fd7c9d3e-8f9d-41bc-dfca-37e342967b76"
      },
      "execution_count": null,
      "outputs": [
        {
          "output_type": "execute_result",
          "data": {
            "text/plain": [
              "-6.3350865047797535"
            ]
          },
          "metadata": {},
          "execution_count": 43
        }
      ]
    },
    {
      "cell_type": "code",
      "source": [
        "graphical_lasso.get_params()"
      ],
      "metadata": {
        "colab": {
          "base_uri": "https://localhost:8080/"
        },
        "id": "_8vVb4tzBIvP",
        "outputId": "c8695222-b07d-41a6-90d8-412d3d3d4603"
      },
      "execution_count": null,
      "outputs": [
        {
          "output_type": "execute_result",
          "data": {
            "text/plain": [
              "{'alpha': 0.01,\n",
              " 'assume_centered': False,\n",
              " 'enet_tol': 0.0001,\n",
              " 'max_iter': 100,\n",
              " 'mode': 'cd',\n",
              " 'tol': 0.0001,\n",
              " 'verbose': False}"
            ]
          },
          "metadata": {},
          "execution_count": 44
        }
      ]
    },
    {
      "cell_type": "code",
      "source": [
        "glass_covariance_matrix = graphical_lasso.covariance_\n",
        "print(\"Learned Covariance Matrix:\")\n",
        "print(glass_covariance_matrix)"
      ],
      "metadata": {
        "colab": {
          "base_uri": "https://localhost:8080/"
        },
        "id": "ojSAQ09F2yAF",
        "outputId": "d514237e-ca07-4f84-d6fd-d0828565cd6a"
      },
      "execution_count": null,
      "outputs": [
        {
          "output_type": "stream",
          "name": "stdout",
          "text": [
            "Learned Covariance Matrix:\n",
            "[[ 3.81625000e+03 -3.51504673e-03  1.89001426e+01 -5.78023757e+01\n",
            "   1.50717998e+01  2.93285841e+00  1.36275123e-01  7.97395952e+00\n",
            "   1.38105931e+01 -4.27150940e-01]\n",
            " [-3.51504673e-03  9.17944538e-06 -1.74084205e-05  5.32402363e-05\n",
            "  -1.38822353e-05 -2.70137815e-06 -1.25519404e-07 -7.34460277e-06\n",
            "  -1.27205713e-05  3.93437410e-07]\n",
            " [ 1.89001426e+01 -1.74084205e-05  6.63725286e-01 -3.10915915e-01\n",
            "   7.36268696e-02 -3.39494006e-02 -1.31054129e-01 -3.08610408e-01\n",
            "   1.41991047e-01 -9.11389046e-03]\n",
            " [-5.78023757e+01  5.32402363e-05 -3.10915915e-01  2.07081824e+00\n",
            "  -3.35353078e-01 -1.74508526e-01  1.50504801e-02 -8.96649029e-01\n",
            "  -3.41397488e-01  5.06014649e-03]\n",
            " [ 1.50717998e+01 -1.38822353e-05  7.36268696e-02 -3.35353078e-01\n",
            "   2.48105365e-01  7.87218726e-03  1.14268656e-01 -1.73588891e-01\n",
            "   1.12419207e-01 -2.11980240e-03]\n",
            " [ 2.93285841e+00 -2.70137815e-06 -3.39494006e-02 -1.74508526e-01\n",
            "   7.87218726e-03  5.97117818e-01 -8.72056254e-02 -2.19009266e-01\n",
            "  -2.91565409e-02 -2.84687252e-04]\n",
            " [ 1.36275123e-01 -1.25519404e-07 -1.31054129e-01  1.50504801e-02\n",
            "   1.14268656e-01 -8.72056254e-02  4.23366567e-01 -2.83627149e-01\n",
            "  -3.75577484e-03  8.13026646e-04]\n",
            " [ 7.97395952e+00 -7.34460277e-06 -3.08610408e-01 -8.96649029e-01\n",
            "  -1.73588891e-01 -2.19009266e-01 -2.83627149e-01  2.01590152e+00\n",
            "  -6.94753254e-02  7.24839287e-03]\n",
            " [ 1.38105931e+01 -1.27205713e-05  1.41991047e-01 -3.41397488e-01\n",
            "   1.12419207e-01 -2.91565409e-02 -3.75577484e-03 -6.94753254e-02\n",
            "   2.46071727e-01 -2.56479052e-03]\n",
            " [-4.27150940e-01  3.93437410e-07 -9.11389046e-03  5.06014649e-03\n",
            "  -2.11980240e-03 -2.84687252e-04  8.13026646e-04  7.24839287e-03\n",
            "  -2.56479052e-03  9.44993449e-03]]\n"
          ]
        }
      ]
    },
    {
      "cell_type": "code",
      "source": [
        "data"
      ],
      "metadata": {
        "colab": {
          "base_uri": "https://localhost:8080/",
          "height": 423
        },
        "id": "lnAI4pjeCLEZ",
        "outputId": "4997f6ce-fbd0-46f2-f911-ebca1163785c"
      },
      "execution_count": null,
      "outputs": [
        {
          "output_type": "execute_result",
          "data": {
            "text/plain": [
              "      0        1      2     3     4      5     6     7     8    9   10\n",
              "0      1  1.52101  13.64  4.49  1.10  71.78  0.06  8.75  0.00  0.0   1\n",
              "1      2  1.51761  13.89  3.60  1.36  72.73  0.48  7.83  0.00  0.0   1\n",
              "2      3  1.51618  13.53  3.55  1.54  72.99  0.39  7.78  0.00  0.0   1\n",
              "3      4  1.51766  13.21  3.69  1.29  72.61  0.57  8.22  0.00  0.0   1\n",
              "4      5  1.51742  13.27  3.62  1.24  73.08  0.55  8.07  0.00  0.0   1\n",
              "..   ...      ...    ...   ...   ...    ...   ...   ...   ...  ...  ..\n",
              "209  210  1.51623  14.14  0.00  2.88  72.61  0.08  9.18  1.06  0.0   7\n",
              "210  211  1.51685  14.92  0.00  1.99  73.06  0.00  8.40  1.59  0.0   7\n",
              "211  212  1.52065  14.36  0.00  2.02  73.42  0.00  8.44  1.64  0.0   7\n",
              "212  213  1.51651  14.38  0.00  1.94  73.61  0.00  8.48  1.57  0.0   7\n",
              "213  214  1.51711  14.23  0.00  2.08  73.36  0.00  8.62  1.67  0.0   7\n",
              "\n",
              "[214 rows x 11 columns]"
            ],
            "text/html": [
              "\n",
              "  <div id=\"df-42fb84a7-e35d-4444-84f3-3e1e94453e87\">\n",
              "    <div class=\"colab-df-container\">\n",
              "      <div>\n",
              "<style scoped>\n",
              "    .dataframe tbody tr th:only-of-type {\n",
              "        vertical-align: middle;\n",
              "    }\n",
              "\n",
              "    .dataframe tbody tr th {\n",
              "        vertical-align: top;\n",
              "    }\n",
              "\n",
              "    .dataframe thead th {\n",
              "        text-align: right;\n",
              "    }\n",
              "</style>\n",
              "<table border=\"1\" class=\"dataframe\">\n",
              "  <thead>\n",
              "    <tr style=\"text-align: right;\">\n",
              "      <th></th>\n",
              "      <th>0</th>\n",
              "      <th>1</th>\n",
              "      <th>2</th>\n",
              "      <th>3</th>\n",
              "      <th>4</th>\n",
              "      <th>5</th>\n",
              "      <th>6</th>\n",
              "      <th>7</th>\n",
              "      <th>8</th>\n",
              "      <th>9</th>\n",
              "      <th>10</th>\n",
              "    </tr>\n",
              "  </thead>\n",
              "  <tbody>\n",
              "    <tr>\n",
              "      <th>0</th>\n",
              "      <td>1</td>\n",
              "      <td>1.52101</td>\n",
              "      <td>13.64</td>\n",
              "      <td>4.49</td>\n",
              "      <td>1.10</td>\n",
              "      <td>71.78</td>\n",
              "      <td>0.06</td>\n",
              "      <td>8.75</td>\n",
              "      <td>0.00</td>\n",
              "      <td>0.0</td>\n",
              "      <td>1</td>\n",
              "    </tr>\n",
              "    <tr>\n",
              "      <th>1</th>\n",
              "      <td>2</td>\n",
              "      <td>1.51761</td>\n",
              "      <td>13.89</td>\n",
              "      <td>3.60</td>\n",
              "      <td>1.36</td>\n",
              "      <td>72.73</td>\n",
              "      <td>0.48</td>\n",
              "      <td>7.83</td>\n",
              "      <td>0.00</td>\n",
              "      <td>0.0</td>\n",
              "      <td>1</td>\n",
              "    </tr>\n",
              "    <tr>\n",
              "      <th>2</th>\n",
              "      <td>3</td>\n",
              "      <td>1.51618</td>\n",
              "      <td>13.53</td>\n",
              "      <td>3.55</td>\n",
              "      <td>1.54</td>\n",
              "      <td>72.99</td>\n",
              "      <td>0.39</td>\n",
              "      <td>7.78</td>\n",
              "      <td>0.00</td>\n",
              "      <td>0.0</td>\n",
              "      <td>1</td>\n",
              "    </tr>\n",
              "    <tr>\n",
              "      <th>3</th>\n",
              "      <td>4</td>\n",
              "      <td>1.51766</td>\n",
              "      <td>13.21</td>\n",
              "      <td>3.69</td>\n",
              "      <td>1.29</td>\n",
              "      <td>72.61</td>\n",
              "      <td>0.57</td>\n",
              "      <td>8.22</td>\n",
              "      <td>0.00</td>\n",
              "      <td>0.0</td>\n",
              "      <td>1</td>\n",
              "    </tr>\n",
              "    <tr>\n",
              "      <th>4</th>\n",
              "      <td>5</td>\n",
              "      <td>1.51742</td>\n",
              "      <td>13.27</td>\n",
              "      <td>3.62</td>\n",
              "      <td>1.24</td>\n",
              "      <td>73.08</td>\n",
              "      <td>0.55</td>\n",
              "      <td>8.07</td>\n",
              "      <td>0.00</td>\n",
              "      <td>0.0</td>\n",
              "      <td>1</td>\n",
              "    </tr>\n",
              "    <tr>\n",
              "      <th>...</th>\n",
              "      <td>...</td>\n",
              "      <td>...</td>\n",
              "      <td>...</td>\n",
              "      <td>...</td>\n",
              "      <td>...</td>\n",
              "      <td>...</td>\n",
              "      <td>...</td>\n",
              "      <td>...</td>\n",
              "      <td>...</td>\n",
              "      <td>...</td>\n",
              "      <td>...</td>\n",
              "    </tr>\n",
              "    <tr>\n",
              "      <th>209</th>\n",
              "      <td>210</td>\n",
              "      <td>1.51623</td>\n",
              "      <td>14.14</td>\n",
              "      <td>0.00</td>\n",
              "      <td>2.88</td>\n",
              "      <td>72.61</td>\n",
              "      <td>0.08</td>\n",
              "      <td>9.18</td>\n",
              "      <td>1.06</td>\n",
              "      <td>0.0</td>\n",
              "      <td>7</td>\n",
              "    </tr>\n",
              "    <tr>\n",
              "      <th>210</th>\n",
              "      <td>211</td>\n",
              "      <td>1.51685</td>\n",
              "      <td>14.92</td>\n",
              "      <td>0.00</td>\n",
              "      <td>1.99</td>\n",
              "      <td>73.06</td>\n",
              "      <td>0.00</td>\n",
              "      <td>8.40</td>\n",
              "      <td>1.59</td>\n",
              "      <td>0.0</td>\n",
              "      <td>7</td>\n",
              "    </tr>\n",
              "    <tr>\n",
              "      <th>211</th>\n",
              "      <td>212</td>\n",
              "      <td>1.52065</td>\n",
              "      <td>14.36</td>\n",
              "      <td>0.00</td>\n",
              "      <td>2.02</td>\n",
              "      <td>73.42</td>\n",
              "      <td>0.00</td>\n",
              "      <td>8.44</td>\n",
              "      <td>1.64</td>\n",
              "      <td>0.0</td>\n",
              "      <td>7</td>\n",
              "    </tr>\n",
              "    <tr>\n",
              "      <th>212</th>\n",
              "      <td>213</td>\n",
              "      <td>1.51651</td>\n",
              "      <td>14.38</td>\n",
              "      <td>0.00</td>\n",
              "      <td>1.94</td>\n",
              "      <td>73.61</td>\n",
              "      <td>0.00</td>\n",
              "      <td>8.48</td>\n",
              "      <td>1.57</td>\n",
              "      <td>0.0</td>\n",
              "      <td>7</td>\n",
              "    </tr>\n",
              "    <tr>\n",
              "      <th>213</th>\n",
              "      <td>214</td>\n",
              "      <td>1.51711</td>\n",
              "      <td>14.23</td>\n",
              "      <td>0.00</td>\n",
              "      <td>2.08</td>\n",
              "      <td>73.36</td>\n",
              "      <td>0.00</td>\n",
              "      <td>8.62</td>\n",
              "      <td>1.67</td>\n",
              "      <td>0.0</td>\n",
              "      <td>7</td>\n",
              "    </tr>\n",
              "  </tbody>\n",
              "</table>\n",
              "<p>214 rows × 11 columns</p>\n",
              "</div>\n",
              "      <button class=\"colab-df-convert\" onclick=\"convertToInteractive('df-42fb84a7-e35d-4444-84f3-3e1e94453e87')\"\n",
              "              title=\"Convert this dataframe to an interactive table.\"\n",
              "              style=\"display:none;\">\n",
              "        \n",
              "  <svg xmlns=\"http://www.w3.org/2000/svg\" height=\"24px\"viewBox=\"0 0 24 24\"\n",
              "       width=\"24px\">\n",
              "    <path d=\"M0 0h24v24H0V0z\" fill=\"none\"/>\n",
              "    <path d=\"M18.56 5.44l.94 2.06.94-2.06 2.06-.94-2.06-.94-.94-2.06-.94 2.06-2.06.94zm-11 1L8.5 8.5l.94-2.06 2.06-.94-2.06-.94L8.5 2.5l-.94 2.06-2.06.94zm10 10l.94 2.06.94-2.06 2.06-.94-2.06-.94-.94-2.06-.94 2.06-2.06.94z\"/><path d=\"M17.41 7.96l-1.37-1.37c-.4-.4-.92-.59-1.43-.59-.52 0-1.04.2-1.43.59L10.3 9.45l-7.72 7.72c-.78.78-.78 2.05 0 2.83L4 21.41c.39.39.9.59 1.41.59.51 0 1.02-.2 1.41-.59l7.78-7.78 2.81-2.81c.8-.78.8-2.07 0-2.86zM5.41 20L4 18.59l7.72-7.72 1.47 1.35L5.41 20z\"/>\n",
              "  </svg>\n",
              "      </button>\n",
              "      \n",
              "  <style>\n",
              "    .colab-df-container {\n",
              "      display:flex;\n",
              "      flex-wrap:wrap;\n",
              "      gap: 12px;\n",
              "    }\n",
              "\n",
              "    .colab-df-convert {\n",
              "      background-color: #E8F0FE;\n",
              "      border: none;\n",
              "      border-radius: 50%;\n",
              "      cursor: pointer;\n",
              "      display: none;\n",
              "      fill: #1967D2;\n",
              "      height: 32px;\n",
              "      padding: 0 0 0 0;\n",
              "      width: 32px;\n",
              "    }\n",
              "\n",
              "    .colab-df-convert:hover {\n",
              "      background-color: #E2EBFA;\n",
              "      box-shadow: 0px 1px 2px rgba(60, 64, 67, 0.3), 0px 1px 3px 1px rgba(60, 64, 67, 0.15);\n",
              "      fill: #174EA6;\n",
              "    }\n",
              "\n",
              "    [theme=dark] .colab-df-convert {\n",
              "      background-color: #3B4455;\n",
              "      fill: #D2E3FC;\n",
              "    }\n",
              "\n",
              "    [theme=dark] .colab-df-convert:hover {\n",
              "      background-color: #434B5C;\n",
              "      box-shadow: 0px 1px 3px 1px rgba(0, 0, 0, 0.15);\n",
              "      filter: drop-shadow(0px 1px 2px rgba(0, 0, 0, 0.3));\n",
              "      fill: #FFFFFF;\n",
              "    }\n",
              "  </style>\n",
              "\n",
              "      <script>\n",
              "        const buttonEl =\n",
              "          document.querySelector('#df-42fb84a7-e35d-4444-84f3-3e1e94453e87 button.colab-df-convert');\n",
              "        buttonEl.style.display =\n",
              "          google.colab.kernel.accessAllowed ? 'block' : 'none';\n",
              "\n",
              "        async function convertToInteractive(key) {\n",
              "          const element = document.querySelector('#df-42fb84a7-e35d-4444-84f3-3e1e94453e87');\n",
              "          const dataTable =\n",
              "            await google.colab.kernel.invokeFunction('convertToInteractive',\n",
              "                                                     [key], {});\n",
              "          if (!dataTable) return;\n",
              "\n",
              "          const docLinkHtml = 'Like what you see? Visit the ' +\n",
              "            '<a target=\"_blank\" href=https://colab.research.google.com/notebooks/data_table.ipynb>data table notebook</a>'\n",
              "            + ' to learn more about interactive tables.';\n",
              "          element.innerHTML = '';\n",
              "          dataTable['output_type'] = 'display_data';\n",
              "          await google.colab.output.renderOutput(dataTable, element);\n",
              "          const docLink = document.createElement('div');\n",
              "          docLink.innerHTML = docLinkHtml;\n",
              "          element.appendChild(docLink);\n",
              "        }\n",
              "      </script>\n",
              "    </div>\n",
              "  </div>\n",
              "  "
            ]
          },
          "metadata": {},
          "execution_count": 54
        }
      ]
    },
    {
      "cell_type": "code",
      "source": [
        "cov_matrix = np.cov(X, rowvar=False)\n",
        "cov_matrix.shape"
      ],
      "metadata": {
        "colab": {
          "base_uri": "https://localhost:8080/"
        },
        "id": "k30S0LEZFT3C",
        "outputId": "90c7633f-64a3-454c-fe66-599541cf6642"
      },
      "execution_count": null,
      "outputs": [
        {
          "output_type": "execute_result",
          "data": {
            "text/plain": [
              "(10, 10)"
            ]
          },
          "metadata": {},
          "execution_count": 58
        }
      ]
    },
    {
      "cell_type": "code",
      "source": [
        "graphical_lasso.error_norm(cov_matrix, norm='frobenius', scaling=True, squared=True)"
      ],
      "metadata": {
        "colab": {
          "base_uri": "https://localhost:8080/"
        },
        "id": "OyduyX_VBrqm",
        "outputId": "37c792a9-e0af-4a42-e747-e8cae03633b5"
      },
      "execution_count": null,
      "outputs": [
        {
          "output_type": "execute_result",
          "data": {
            "text/plain": [
              "32.121654532909204"
            ]
          },
          "metadata": {},
          "execution_count": 59
        }
      ]
    },
    {
      "cell_type": "code",
      "source": [
        "glass_covariance_matrix"
      ],
      "metadata": {
        "colab": {
          "base_uri": "https://localhost:8080/"
        },
        "id": "Jyzdj3BHGRKA",
        "outputId": "75b891ee-d75d-44a5-dbd6-6d1fd624a8b1"
      },
      "execution_count": null,
      "outputs": [
        {
          "output_type": "execute_result",
          "data": {
            "text/plain": [
              "array([[ 3.81625000e+03, -3.51504673e-03,  1.89001426e+01,\n",
              "        -5.78023757e+01,  1.50717998e+01,  2.93285841e+00,\n",
              "         1.36275123e-01,  7.97395952e+00,  1.38105931e+01,\n",
              "        -4.27150940e-01],\n",
              "       [-3.51504673e-03,  9.17944538e-06, -1.74084205e-05,\n",
              "         5.32402363e-05, -1.38822353e-05, -2.70137815e-06,\n",
              "        -1.25519404e-07, -7.34460277e-06, -1.27205713e-05,\n",
              "         3.93437410e-07],\n",
              "       [ 1.89001426e+01, -1.74084205e-05,  6.63725286e-01,\n",
              "        -3.10915915e-01,  7.36268696e-02, -3.39494006e-02,\n",
              "        -1.31054129e-01, -3.08610408e-01,  1.41991047e-01,\n",
              "        -9.11389046e-03],\n",
              "       [-5.78023757e+01,  5.32402363e-05, -3.10915915e-01,\n",
              "         2.07081824e+00, -3.35353078e-01, -1.74508526e-01,\n",
              "         1.50504801e-02, -8.96649029e-01, -3.41397488e-01,\n",
              "         5.06014649e-03],\n",
              "       [ 1.50717998e+01, -1.38822353e-05,  7.36268696e-02,\n",
              "        -3.35353078e-01,  2.48105365e-01,  7.87218726e-03,\n",
              "         1.14268656e-01, -1.73588891e-01,  1.12419207e-01,\n",
              "        -2.11980240e-03],\n",
              "       [ 2.93285841e+00, -2.70137815e-06, -3.39494006e-02,\n",
              "        -1.74508526e-01,  7.87218726e-03,  5.97117818e-01,\n",
              "        -8.72056254e-02, -2.19009266e-01, -2.91565409e-02,\n",
              "        -2.84687252e-04],\n",
              "       [ 1.36275123e-01, -1.25519404e-07, -1.31054129e-01,\n",
              "         1.50504801e-02,  1.14268656e-01, -8.72056254e-02,\n",
              "         4.23366567e-01, -2.83627149e-01, -3.75577484e-03,\n",
              "         8.13026646e-04],\n",
              "       [ 7.97395952e+00, -7.34460277e-06, -3.08610408e-01,\n",
              "        -8.96649029e-01, -1.73588891e-01, -2.19009266e-01,\n",
              "        -2.83627149e-01,  2.01590152e+00, -6.94753254e-02,\n",
              "         7.24839287e-03],\n",
              "       [ 1.38105931e+01, -1.27205713e-05,  1.41991047e-01,\n",
              "        -3.41397488e-01,  1.12419207e-01, -2.91565409e-02,\n",
              "        -3.75577484e-03, -6.94753254e-02,  2.46071727e-01,\n",
              "        -2.56479052e-03],\n",
              "       [-4.27150940e-01,  3.93437410e-07, -9.11389046e-03,\n",
              "         5.06014649e-03, -2.11980240e-03, -2.84687252e-04,\n",
              "         8.13026646e-04,  7.24839287e-03, -2.56479052e-03,\n",
              "         9.44993449e-03]])"
            ]
          },
          "metadata": {},
          "execution_count": 60
        }
      ]
    },
    {
      "cell_type": "code",
      "source": [
        "\n",
        "# Plot heatmap of the precision matrix\n",
        "sns.heatmap(glass_covariance_matrix, cmap=\"coolwarm\", annot=True, vmin = -5, vmax= 5)\n",
        "plt.title(\"Precision Matrix Heatmap\")\n",
        "plt.show()\n"
      ],
      "metadata": {
        "colab": {
          "base_uri": "https://localhost:8080/",
          "height": 452
        },
        "id": "HbnIOOpS3ZhM",
        "outputId": "5b84a927-0e28-47f7-9a5d-8e1968190785"
      },
      "execution_count": null,
      "outputs": [
        {
          "output_type": "display_data",
          "data": {
            "text/plain": [
              "<Figure size 640x480 with 2 Axes>"
            ],
            "image/png": "[encoded data removed]"
          },
          "metadata": {}
        }
      ]
    },
    {
      "cell_type": "code",
      "source": [
        "\n",
        "# Create a graph from the precision matrix\n",
        "G = nx.from_numpy_array(precision_matrix_glass)\n",
        "\n",
        "# Plot the graph\n",
        "nx.draw(G, with_labels=True, node_color='lightblue', node_size=500, edge_color='gray')\n",
        "plt.title(\"Learned Graph Structure\")\n",
        "plt.show()\n"
      ],
      "metadata": {
        "colab": {
          "base_uri": "https://localhost:8080/",
          "height": 539
        },
        "id": "RMQSkV7T3uUz",
        "outputId": "ec5b4c43-7a5a-4b60-de45-54717a74939e"
      },
      "execution_count": null,
      "outputs": [
        {
          "output_type": "display_data",
          "data": {
            "text/plain": [
              "<Figure size 640x480 with 1 Axes>"
            ],
            "image/png": "[encoded data removed]"
          },
          "metadata": {}
        }
      ]
    },
    {
      "cell_type": "code",
      "source": [
        "# Calculate partial correlation matrix\n",
        "partial_corr = -np.linalg.inv(precision_matrix_glass)\n",
        "\n",
        "# Plot heatmap of the partial correlation matrix\n",
        "sns.heatmap(partial_corr, cmap=\"coolwarm\", annot=True,  vmin = -5, vmax= 5)\n",
        "plt.title(\"Partial Correlation Heatmap\")\n",
        "plt.show()\n"
      ],
      "metadata": {
        "colab": {
          "base_uri": "https://localhost:8080/",
          "height": 452
        },
        "id": "rGMVJXrm4VJ5",
        "outputId": "95977a3e-5906-43d1-dc87-1b021fd88579"
      },
      "execution_count": null,
      "outputs": [
        {
          "output_type": "display_data",
          "data": {
            "text/plain": [
              "<Figure size 640x480 with 2 Axes>"
            ],
            "image/png": "[encoded data removed]"
          },
          "metadata": {}
        }
      ]
    },
    {
      "cell_type": "markdown",
      "source": [
        "# GLASSO on RIBOFLAVIN dataset"
      ],
      "metadata": {
        "id": "lzj8AeiERIPq"
      }
    },
    {
      "cell_type": "code",
      "source": [
        "# Load the Glass Identification dataset\n",
        "data = pd.read_csv('riboflavin.csv', header=None)"
      ],
      "metadata": {
        "id": "C6_VGvxC4eRV"
      },
      "execution_count": null,
      "outputs": []
    },
    {
      "cell_type": "markdown",
      "source": [
        "#Validating Lemma"
      ],
      "metadata": {
        "id": "oBaB2R0lMuDn"
      }
    },
    {
      "cell_type": "markdown",
      "source": [
        "3X2 Matrix"
      ],
      "metadata": {
        "id": "vCTeQ-05u5Kh"
      }
    },
    {
      "cell_type": "code",
      "source": [
        "import numpy as np\n",
        "from scipy.optimize import minimize, LinearConstraint\n",
        "\n",
        "X = np.array([[1, 2], [3, 4], [5, 6]])\n",
        "Y = np.array([6, 9, 12])\n",
        "\n",
        "def obj_func(w):\n",
        "    residuals = Y - np.dot(X, w)\n",
        "    return np.sum(residuals**2)\n",
        "\n",
        "# Define the constraint function\n",
        "def constraint(w):\n",
        "    return w[0]  # w1 = 0 constraint\n",
        "\n",
        "# Find a feasible initial value\n",
        "feasible_init = np.array([0, 0])  # Initialize w1 to 0, and set other parameters as desired\n",
        "\n",
        "# Check if the initial value satisfies the constraint\n",
        "if constraint(feasible_init) != 0:\n",
        "    raise ValueError(\"Initial value is not feasible.\")\n",
        "\n",
        "# Define the linear constraint for w1 = 0\n",
        "linear_constraint = LinearConstraint([[1, 0]], [0], [0])\n",
        "\n",
        "# Minimize the objective function subject to the constraint\n",
        "result = minimize(obj_func, feasible_init, constraints=linear_constraint)\n",
        "\n",
        "w_optimized_w10 = result.x\n",
        "min_w_L2_norm_w10 = result.fun\n",
        "\n",
        "print(w_optimized_w10)\n",
        "print(min_w_L2_norm_w10)\n"
      ],
      "metadata": {
        "colab": {
          "base_uri": "https://localhost:8080/"
        },
        "id": "Hmi0POVFMyhm",
        "outputId": "4361de7f-d933-4e17-82ca-4615ce3a9f69"
      },
      "execution_count": null,
      "outputs": [
        {
          "output_type": "stream",
          "name": "stdout",
          "text": [
            "[0.         2.14285714]\n",
            "3.857142857142861\n"
          ]
        }
      ]
    },
    {
      "cell_type": "code",
      "source": [
        "result"
      ],
      "metadata": {
        "colab": {
          "base_uri": "https://localhost:8080/"
        },
        "id": "3V9MNbucoHHg",
        "outputId": "97fb9ba8-254d-4656-e8fd-b87b31a27001"
      },
      "execution_count": null,
      "outputs": [
        {
          "output_type": "execute_result",
          "data": {
            "text/plain": [
              " message: Optimization terminated successfully\n",
              " success: True\n",
              "  status: 0\n",
              "     fun: 3.857142857142861\n",
              "       x: [ 0.000e+00  2.143e+00]\n",
              "     nit: 3\n",
              "     jac: [ 2.571e+00  8.941e-08]\n",
              "    nfev: 11\n",
              "    njev: 3"
            ]
          },
          "metadata": {},
          "execution_count": 2
        }
      ]
    },
    {
      "cell_type": "code",
      "source": [
        "\n",
        "def objective(w):\n",
        "    return np.sum((Y - np.dot(X, w))**2)\n",
        "\n",
        "# Initialize the starting values for w\n",
        "w_initial = np.zeros(X.shape[1])\n",
        "\n",
        "# Define the objective function wrapper\n",
        "def wrapper_func(w):\n",
        "    return objective(w)\n",
        "\n",
        "# Minimize the objective function\n",
        "result = minimize(wrapper_func, w_initial)\n",
        "\n",
        "# Extract the optimal value of w\n",
        "w_optimal = result.x\n",
        "\n",
        "# Compute the minimum value of |Y - Xw|^2_2\n",
        "min_value = result.fun\n",
        "\n",
        "# Print the optimal w and the minimum value\n",
        "print(w_optimal)\n",
        "print(min_value)\n"
      ],
      "metadata": {
        "colab": {
          "base_uri": "https://localhost:8080/"
        },
        "id": "ICsQr0nGMzsu",
        "outputId": "f40908cf-78b9-4600-e202-6ed242265363"
      },
      "execution_count": null,
      "outputs": [
        {
          "output_type": "stream",
          "name": "stdout",
          "text": [
            "[-3.00000247  4.50000198]\n",
            "2.725766256357279e-12\n"
          ]
        }
      ]
    },
    {
      "cell_type": "code",
      "source": [
        "result"
      ],
      "metadata": {
        "colab": {
          "base_uri": "https://localhost:8080/"
        },
        "id": "3_VmzqrN2Jd9",
        "outputId": "d4e2baba-f4e9-46df-fceb-8682acc9dcd6"
      },
      "execution_count": null,
      "outputs": [
        {
          "output_type": "execute_result",
          "data": {
            "text/plain": [
              "  message: Optimization terminated successfully.\n",
              "  success: True\n",
              "   status: 0\n",
              "      fun: 2.725766256357279e-12\n",
              "        x: [-3.000e+00  4.500e+00]\n",
              "      nit: 6\n",
              "      jac: [ 2.371e-06  5.882e-06]\n",
              " hess_inv: [[ 1.158e+00 -9.100e-01]\n",
              "            [-9.100e-01  7.238e-01]]\n",
              "     nfev: 21\n",
              "     njev: 7"
            ]
          },
          "metadata": {},
          "execution_count": 4
        }
      ]
    },
    {
      "cell_type": "code",
      "source": [
        "# Calculate X^TX\n",
        "XtX = np.dot(X.T, X)\n",
        "\n",
        "# Invert XtX\n",
        "XtX_inv = np.linalg.inv(XtX)\n",
        "\n",
        "# Extract the element at position (1, 1)\n",
        "element_11 = XtX_inv[0, 0]\n",
        "\n",
        "print(element_11)"
      ],
      "metadata": {
        "colab": {
          "base_uri": "https://localhost:8080/"
        },
        "id": "cjFagyqjNhF7",
        "outputId": "3ea1b680-9545-47f7-ac2f-ee9138a1b9e7"
      },
      "execution_count": null,
      "outputs": [
        {
          "output_type": "stream",
          "name": "stdout",
          "text": [
            "2.333333333333328\n"
          ]
        }
      ]
    },
    {
      "cell_type": "code",
      "source": [
        "print(w_optimal - w_optimized_w10)"
      ],
      "metadata": {
        "colab": {
          "base_uri": "https://localhost:8080/"
        },
        "id": "Iq168GyROA77",
        "outputId": "dc1ee9a6-ea7c-4625-dcdc-0ac979e3041d"
      },
      "execution_count": null,
      "outputs": [
        {
          "output_type": "stream",
          "name": "stdout",
          "text": [
            "[-3.00000247  2.35714485]\n"
          ]
        }
      ]
    },
    {
      "cell_type": "code",
      "source": [
        "(w_optimal[0]**2)//element_11"
      ],
      "metadata": {
        "colab": {
          "base_uri": "https://localhost:8080/"
        },
        "id": "-OitZumPOLWb",
        "outputId": "457329d4-8052-48b5-886d-c76c2a713021"
      },
      "execution_count": null,
      "outputs": [
        {
          "output_type": "execute_result",
          "data": {
            "text/plain": [
              "3.0"
            ]
          },
          "metadata": {},
          "execution_count": 7
        }
      ]
    },
    {
      "cell_type": "code",
      "source": [
        "print(min_w_L2_norm_w10 - min_value)"
      ],
      "metadata": {
        "colab": {
          "base_uri": "https://localhost:8080/"
        },
        "id": "OjwsacO4Ohe6",
        "outputId": "779aab1c-2280-4aff-faa5-0eec22cea106"
      },
      "execution_count": null,
      "outputs": [
        {
          "output_type": "stream",
          "name": "stdout",
          "text": [
            "3.8571428571401354\n"
          ]
        }
      ]
    },
    {
      "cell_type": "markdown",
      "source": [
        "For 4X3 matrix"
      ],
      "metadata": {
        "id": "hvuKwpQcrC_O"
      }
    },
    {
      "cell_type": "code",
      "source": [
        "\n",
        "X = np.array([[1, 2, 5], [4, 5, 3], [7, 8, 7], [10, 11, 9]])\n",
        "Y = np.array([15, 32, 39, 44])\n",
        "\n",
        "# Define the objective function to minimize\n",
        "def objective(w):\n",
        "    return np.sum((Y - np.dot(X, w))**2)\n",
        "\n",
        "# Initialize the starting values for w\n",
        "w_initial = np.zeros(X.shape[1])\n",
        "\n",
        "# Find the minimum value using optimization\n",
        "result = minimize(objective, w_initial)\n",
        "\n",
        "# Extract the optimal value of w\n",
        "w_optimal = result.x\n",
        "\n",
        "# Compute the minimum value of |Y - Xw|^2_2\n",
        "min_value = result.fun\n",
        "\n",
        "# Print the optimal w and the minimum value\n",
        "print(\"Optimal w:\", w_optimal)\n",
        "print(\"Minimum value:\", min_value)\n",
        "\n"
      ],
      "metadata": {
        "colab": {
          "base_uri": "https://localhost:8080/"
        },
        "id": "8qJkUIteQaEv",
        "outputId": "acbeffaa-0e07-4767-c8f3-70af8e97a515"
      },
      "execution_count": null,
      "outputs": [
        {
          "output_type": "stream",
          "name": "stdout",
          "text": [
            "Optimal w: [-17.48148107  21.74074031  -2.11111103]\n",
            "Minimum value: 7.1111111111112075\n"
          ]
        }
      ]
    },
    {
      "cell_type": "code",
      "source": [
        "result"
      ],
      "metadata": {
        "colab": {
          "base_uri": "https://localhost:8080/"
        },
        "id": "MW_C9gmS2FJs",
        "outputId": "2303ff57-37cc-4416-cca4-0464b79b252c"
      },
      "execution_count": null,
      "outputs": [
        {
          "output_type": "execute_result",
          "data": {
            "text/plain": [
              "  message: Optimization terminated successfully.\n",
              "  success: True\n",
              "   status: 0\n",
              "      fun: 7.1111111111112075\n",
              "        x: [-1.748e+01  2.174e+01 -2.111e+00]\n",
              "      nit: 6\n",
              "      jac: [ 1.192e-07  0.000e+00  5.960e-08]\n",
              " hess_inv: [[ 1.040e+00 -1.062e+00  1.759e-01]\n",
              "            [-1.062e+00  1.114e+00 -2.130e-01]\n",
              "            [ 1.759e-01 -2.130e-01  6.944e-02]]\n",
              "     nfev: 32\n",
              "     njev: 8"
            ]
          },
          "metadata": {},
          "execution_count": 30
        }
      ]
    },
    {
      "cell_type": "code",
      "source": [
        "\n",
        "X = np.array([[1, 2, 5], [4, 5, 3], [7, 8, 7], [10, 11, 9]])\n",
        "Y = np.array([15, 32, 39, 44])\n",
        "\n",
        "# Define the objective function to minimize\n",
        "def objective(w):\n",
        "    return np.sum((Y - np.dot(X, w))**2)\n",
        "\n",
        "# Define the constraint function\n",
        "def constraint(w):\n",
        "    return w[0]\n",
        "\n",
        "# Set the constraint\n",
        "constraints = {'type': 'eq', 'fun': constraint}\n",
        "\n",
        "# Initialize the starting values for w\n",
        "w_initial = np.zeros(X.shape[1])\n",
        "\n",
        "# Find the minimum value using optimization with the constraint\n",
        "result = minimize(objective, w_initial, constraints=constraints)\n",
        "\n",
        "# Extract the optimal value of w\n",
        "w1_0_optimal = result.x\n",
        "\n",
        "# Compute the minimum value of |Y - Xw|^2_2\n",
        "w1_0_min_value = result.fun\n",
        "\n",
        "# Print the optimal w and the minimum value\n",
        "print(\"Optimal w:\", w1_0_optimal)\n",
        "print(\"Minimum value:\", w1_0_min_value)\n"
      ],
      "metadata": {
        "colab": {
          "base_uri": "https://localhost:8080/"
        },
        "id": "Hn8EvPYiqan7",
        "outputId": "91f3d366-583e-4c7e-b2d5-a26cfe2837c5"
      },
      "execution_count": null,
      "outputs": [
        {
          "output_type": "stream",
          "name": "stdout",
          "text": [
            "Optimal w: [0.         3.89614243 0.84569732]\n",
            "Minimum value: 154.01780415430267\n"
          ]
        }
      ]
    },
    {
      "cell_type": "code",
      "source": [
        "result"
      ],
      "metadata": {
        "colab": {
          "base_uri": "https://localhost:8080/"
        },
        "id": "MHZkZSFw2Bjc",
        "outputId": "a21f56b6-257c-4736-e7c1-5097ffe091c2"
      },
      "execution_count": null,
      "outputs": [
        {
          "output_type": "execute_result",
          "data": {
            "text/plain": [
              " message: Optimization terminated successfully\n",
              " success: True\n",
              "  status: 0\n",
              "     fun: 154.01780415430267\n",
              "       x: [ 0.000e+00  3.896e+00  8.457e-01]\n",
              "     nit: 4\n",
              "     jac: [ 1.681e+01  0.000e+00  0.000e+00]\n",
              "    nfev: 20\n",
              "    njev: 4"
            ]
          },
          "metadata": {},
          "execution_count": 32
        }
      ]
    },
    {
      "cell_type": "code",
      "source": [
        "np.linalg.matrix_rank(X)"
      ],
      "metadata": {
        "colab": {
          "base_uri": "https://localhost:8080/"
        },
        "id": "JrgnhYYhtIJw",
        "outputId": "44df7ae7-61fa-40f3-fff9-8d991a309a1c"
      },
      "execution_count": null,
      "outputs": [
        {
          "output_type": "execute_result",
          "data": {
            "text/plain": [
              "3"
            ]
          },
          "metadata": {},
          "execution_count": 33
        }
      ]
    },
    {
      "cell_type": "code",
      "source": [
        "# Calculate X^TX\n",
        "XtX = np.dot(X.T, X)\n",
        "\n",
        "# Invert XtX\n",
        "XtX_inv = np.linalg.inv(XtX)\n",
        "\n",
        "# Extract the element at position (1, 1)\n",
        "element_11 = XtX_inv[0, 0]\n",
        "\n",
        "print(element_11)"
      ],
      "metadata": {
        "colab": {
          "base_uri": "https://localhost:8080/"
        },
        "id": "jejBiblTr358",
        "outputId": "8c0dab99-1049-4e78-9de6-f8f2fb55a1c7"
      },
      "execution_count": null,
      "outputs": [
        {
          "output_type": "stream",
          "name": "stdout",
          "text": [
            "2.0802469135802335\n"
          ]
        }
      ]
    },
    {
      "cell_type": "code",
      "source": [
        "print(w1_0_optimal-w_optimal)"
      ],
      "metadata": {
        "colab": {
          "base_uri": "https://localhost:8080/"
        },
        "id": "7s0-8YE3q4Rf",
        "outputId": "82cb9043-e855-4ccd-d1f3-a4ea99de13bc"
      },
      "execution_count": null,
      "outputs": [
        {
          "output_type": "stream",
          "name": "stdout",
          "text": [
            "[ 17.48148107 -17.84459787   2.95680835]\n"
          ]
        }
      ]
    },
    {
      "cell_type": "code",
      "source": [
        "print(w_optimal[0]**2//element_11)"
      ],
      "metadata": {
        "colab": {
          "base_uri": "https://localhost:8080/"
        },
        "id": "UiIbXsRMtqmm",
        "outputId": "ddfb1a09-7c13-4011-ce61-512d51e1f4d1"
      },
      "execution_count": null,
      "outputs": [
        {
          "output_type": "stream",
          "name": "stdout",
          "text": [
            "146.0\n"
          ]
        }
      ]
    },
    {
      "cell_type": "code",
      "source": [
        "print(w1_0_min_value-min_value)"
      ],
      "metadata": {
        "colab": {
          "base_uri": "https://localhost:8080/"
        },
        "id": "L9R99qiMtzsO",
        "outputId": "e15645c8-c7fa-49a8-ae53-e8f6b7f0e947"
      },
      "execution_count": null,
      "outputs": [
        {
          "output_type": "stream",
          "name": "stdout",
          "text": [
            "146.90669304319147\n"
          ]
        }
      ]
    },
    {
      "cell_type": "code",
      "source": [
        "\n",
        "# Define the objective function to minimize\n",
        "def objective(w):\n",
        "    w_hat = np.zeros_like(w)\n",
        "    return np.linalg.norm(X @ w_hat - X @ w)**2\n",
        "\n",
        "# Define the constraint function\n",
        "def constraint(w):\n",
        "    return w[0]\n",
        "\n",
        "# Initialize the starting values for w\n",
        "w_initial = np.zeros((X.shape[1],))\n",
        "\n",
        "# Define the constraint dictionary\n",
        "constraint_dict = {'type': 'eq', 'fun': constraint}\n",
        "\n",
        "# Set bounds for w\n",
        "bounds = [(None, None)] * X.shape[1]\n",
        "\n",
        "# Optimize the objective function subject to the constraint\n",
        "result = minimize(objective, w_initial, method='SLSQP', constraints=constraint_dict, bounds=bounds)\n",
        "\n",
        "# Extract the optimal value of w\n",
        "w_optimal = result.x\n",
        "\n",
        "# Compute the minimum value of |Xw_hat - Xw|^2 L2 norm\n",
        "min_value = result.fun\n",
        "\n",
        "# Print the optimal w and the minimum value\n",
        "print(\"Optimal w: \", w_optimal)\n",
        "print(\"Minimum value: \", min_value)\n"
      ],
      "metadata": {
        "colab": {
          "base_uri": "https://localhost:8080/"
        },
        "id": "o2ZovcJZIw1H",
        "outputId": "5e8e0e75-9883-45a7-fcb5-7142c33484ec"
      },
      "execution_count": null,
      "outputs": [
        {
          "output_type": "stream",
          "name": "stdout",
          "text": [
            "Optimal w:  [0. 0. 0.]\n",
            "Minimum value:  0.0\n"
          ]
        }
      ]
    },
    {
      "cell_type": "code",
      "source": [
        "result"
      ],
      "metadata": {
        "id": "aeyID0CGJfG-",
        "outputId": "bcc2820c-9998-4da3-cd79-8e4b37e955a6",
        "colab": {
          "base_uri": "https://localhost:8080/"
        }
      },
      "execution_count": null,
      "outputs": [
        {
          "output_type": "execute_result",
          "data": {
            "text/plain": [
              " message: Optimization terminated successfully\n",
              " success: True\n",
              "  status: 0\n",
              "     fun: 0.0\n",
              "       x: [ 0.000e+00  0.000e+00  0.000e+00]\n",
              "     nit: 1\n",
              "     jac: [ 2.474e-06  3.189e-06  2.444e-06]\n",
              "    nfev: 4\n",
              "    njev: 1"
            ]
          },
          "metadata": {},
          "execution_count": 39
        }
      ]
    },
    {
      "cell_type": "markdown",
      "source": [
        "For 10X5 matrix"
      ],
      "metadata": {
        "id": "RHF8n0eVxPBP"
      }
    },
    {
      "cell_type": "code",
      "source": [
        "num_rows = 10  # Number of rows\n",
        "num_cols = 5   # Number of columns\n",
        "\n",
        "# Generate a random matrix with full column rank\n",
        "X = np.random.randint(1,51, size=(num_rows, num_cols))\n",
        "Y = np.random.randint(1, 101, size=(num_rows))\n",
        "# Compute the rank of the matrix\n",
        "rank = np.linalg.matrix_rank(X)"
      ],
      "metadata": {
        "id": "fplilyTXuCvf"
      },
      "execution_count": null,
      "outputs": []
    },
    {
      "cell_type": "code",
      "source": [
        "rank"
      ],
      "metadata": {
        "colab": {
          "base_uri": "https://localhost:8080/"
        },
        "id": "mq4sxPL8xrup",
        "outputId": "b259498e-c6e7-4284-d527-baba99dfb017"
      },
      "execution_count": null,
      "outputs": [
        {
          "output_type": "execute_result",
          "data": {
            "text/plain": [
              "5"
            ]
          },
          "metadata": {},
          "execution_count": 19
        }
      ]
    },
    {
      "cell_type": "code",
      "source": [
        "# Define the objective function to minimize\n",
        "def objective(w):\n",
        "    return np.sum((Y - np.dot(X, w))**2)\n",
        "\n",
        "# Initialize the starting values for w\n",
        "w_initial = np.zeros(X.shape[1])\n",
        "\n",
        "# Find the minimum value using optimization\n",
        "result = minimize(objective, w_initial)\n",
        "\n",
        "# Extract the optimal value of w\n",
        "w_optimal = result.x\n",
        "\n",
        "# Compute the minimum value of |Y - Xw|^2_2\n",
        "min_value = result.fun\n",
        "\n",
        "# Print the optimal w and the minimum value\n",
        "print(\"Optimal w:\", w_optimal)\n",
        "print(\"Minimum value:\", min_value)\n",
        "\n"
      ],
      "metadata": {
        "colab": {
          "base_uri": "https://localhost:8080/"
        },
        "id": "tP55mENbxUzY",
        "outputId": "ba396d0d-0be7-4bbe-8b09-7145f7f6cd5d"
      },
      "execution_count": null,
      "outputs": [
        {
          "output_type": "stream",
          "name": "stdout",
          "text": [
            "Optimal w: [ 0.87396059  0.81304288 -0.1351647   0.9846435  -1.17612012]\n",
            "Minimum value: 8900.906328529756\n"
          ]
        }
      ]
    },
    {
      "cell_type": "code",
      "source": [
        "result"
      ],
      "metadata": {
        "colab": {
          "base_uri": "https://localhost:8080/"
        },
        "id": "WwRIObIP12WU",
        "outputId": "4bbe2412-971b-486a-c836-f5836a282aa0"
      },
      "execution_count": null,
      "outputs": [
        {
          "output_type": "execute_result",
          "data": {
            "text/plain": [
              "  message: Desired error not necessarily achieved due to precision loss.\n",
              "  success: False\n",
              "   status: 2\n",
              "      fun: 8900.906328529756\n",
              "        x: [ 8.740e-01  8.130e-01 -1.352e-01  9.846e-01 -1.176e+00]\n",
              "      nit: 11\n",
              "      jac: [ 1.221e-04  0.000e+00  0.000e+00  0.000e+00  0.000e+00]\n",
              " hess_inv: [[ 5.071e-04 -2.568e-04 ...  2.568e-04 -1.073e-04]\n",
              "            [-2.568e-04  4.459e-04 ... -4.459e-04  1.220e-04]\n",
              "            ...\n",
              "            [ 2.568e-04 -4.459e-04 ...  4.459e-04 -1.220e-04]\n",
              "            [-1.073e-04  1.220e-04 ... -1.220e-04  1.631e-04]]\n",
              "     nfev: 252\n",
              "     njev: 42"
            ]
          },
          "metadata": {},
          "execution_count": 21
        }
      ]
    },
    {
      "cell_type": "code",
      "source": [
        "# Define the objective function to minimize\n",
        "def objective(w):\n",
        "    return np.sum((Y - np.dot(X, w))**2)\n",
        "\n",
        "# Define the constraint function\n",
        "def constraint(w):\n",
        "    return w[0]\n",
        "\n",
        "# Set the constraint\n",
        "constraints = {'type': 'eq', 'fun': constraint}\n",
        "\n",
        "# Initialize the starting values for w\n",
        "w_initial = np.zeros(X.shape[1])\n",
        "\n",
        "# Find the minimum value using optimization with the constraint\n",
        "result = minimize(objective, w_initial, constraints=constraints)\n",
        "\n",
        "# Extract the optimal value of w\n",
        "w1_0_optimal = result.x\n",
        "\n",
        "# Compute the minimum value of |Y - Xw|^2_2\n",
        "w1_0_min_value = result.fun\n",
        "\n",
        "# Print the optimal w and the minimum value\n",
        "print(\"Optimal w:\", w1_0_optimal)\n",
        "print(\"Minimum value:\", w1_0_min_value)\n"
      ],
      "metadata": {
        "colab": {
          "base_uri": "https://localhost:8080/"
        },
        "id": "VkuIxF9oxVmA",
        "outputId": "fcec7fdb-7e2f-4c8a-977d-7a03846182a7"
      },
      "execution_count": null,
      "outputs": [
        {
          "output_type": "stream",
          "name": "stdout",
          "text": [
            "Optimal w: [ 0.          0.87985269  0.026148    1.46716502 -1.23874722]\n",
            "Minimum value: 9889.833225716673\n"
          ]
        }
      ]
    },
    {
      "cell_type": "code",
      "source": [
        "result"
      ],
      "metadata": {
        "colab": {
          "base_uri": "https://localhost:8080/"
        },
        "id": "WLdQbUWz19Mk",
        "outputId": "53e86171-fa25-4164-d1ea-f2d77fb0dba3"
      },
      "execution_count": null,
      "outputs": [
        {
          "output_type": "execute_result",
          "data": {
            "text/plain": [
              " message: Optimization terminated successfully\n",
              " success: True\n",
              "  status: 0\n",
              "     fun: 9889.833225716673\n",
              "       x: [ 0.000e+00  8.799e-01  2.615e-02  1.467e+00 -1.239e+00]\n",
              "     nit: 7\n",
              "     jac: [-2.263e+03  0.000e+00  1.221e-04  0.000e+00  0.000e+00]\n",
              "    nfev: 58\n",
              "    njev: 7"
            ]
          },
          "metadata": {},
          "execution_count": 23
        }
      ]
    },
    {
      "cell_type": "code",
      "source": [
        "print(w1_0_optimal-w_optimal)"
      ],
      "metadata": {
        "colab": {
          "base_uri": "https://localhost:8080/"
        },
        "id": "exRF1lz5yH-7",
        "outputId": "7f48ac6e-e766-4c89-f8bd-3bb5413b42fe"
      },
      "execution_count": null,
      "outputs": [
        {
          "output_type": "stream",
          "name": "stdout",
          "text": [
            "[-0.87396059  0.0668098   0.1613127   0.48252152 -0.0626271 ]\n"
          ]
        }
      ]
    },
    {
      "cell_type": "code",
      "source": [
        "print(w_optimal[0]**2//element_11)"
      ],
      "metadata": {
        "colab": {
          "base_uri": "https://localhost:8080/"
        },
        "id": "2Mwc52PeyQ3T",
        "outputId": "9c13afda-5918-481a-bf4e-8d601c735b58"
      },
      "execution_count": null,
      "outputs": [
        {
          "output_type": "stream",
          "name": "stdout",
          "text": [
            "0.0\n"
          ]
        }
      ]
    },
    {
      "cell_type": "code",
      "source": [
        "print(w1_0_min_value-min_value)"
      ],
      "metadata": {
        "colab": {
          "base_uri": "https://localhost:8080/"
        },
        "id": "IPNX-2TtyUeb",
        "outputId": "075cb5b0-18ae-4580-deeb-c480e20e95be"
      },
      "execution_count": null,
      "outputs": [
        {
          "output_type": "stream",
          "name": "stdout",
          "text": [
            "988.9268971869169\n"
          ]
        }
      ]
    },
    {
      "cell_type": "code",
      "source": [],
      "metadata": {
        "colab": {
          "base_uri": "https://localhost:8080/"
        },
        "id": "V5zbztVWyfsc",
        "outputId": "9aab297e-57af-44c6-f227-ac468a50e871"
      },
      "execution_count": null,
      "outputs": [
        {
          "output_type": "stream",
          "name": "stdout",
          "text": [
            "Optimal w:  [0. 0. 0. 0. 0.]\n",
            "Minimum value:  0.0\n"
          ]
        }
      ]
    },
    {
      "cell_type": "code",
      "source": [],
      "metadata": {
        "id": "AhuBH6uH2oeu"
      },
      "execution_count": null,
      "outputs": []
    }
  ]
}